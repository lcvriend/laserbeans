{
 "cells": [
  {
   "cell_type": "markdown",
   "metadata": {},
   "source": [
    "# LASERBEANS\n",
    "Tools for quick data exploration and presentation\n",
    "***"
   ]
  },
  {
   "cell_type": "code",
   "execution_count": 1,
   "metadata": {},
   "outputs": [],
   "source": [
    "import pandas as pd\n",
    "import laserbeans.dates_n_periods as dnp\n",
    "import laserbeans.selectors as sel\n",
    "import laserbeans.resamplers as smp\n",
    "import laserbeans.tables as tbl\n",
    "import laserbeans.charts as chrt\n",
    "\n",
    "df = pd.read_pickle('test_data/enrollment_data.pkl')"
   ]
  },
  {
   "cell_type": "markdown",
   "metadata": {},
   "source": [
    "### Plotting the number of enrollment request per week for the 2018 academic year\n",
    "In the example below we plot the number of enrolments per week.\n",
    "To do so, we first select only the records for the 2018 academic year with the **pandas** `query` method.\n",
    "Then we use the **laserbeans** `aggregate_time` function from the **tables** module to count the records per week.\n",
    "\n",
    "- The `grouper_cols` is set to *ENROLLMENT_TYPE* as our category.\n",
    "- The (time) `unit` is set to 'W' for weeks.\n",
    "- Finally, setting `use_dt` to `True` returns the weeks as dates instead of week numbers.\n",
    "\n",
    "Because we want to show the enrollment types in a defined order, we create a list from the categories from the field `ENROLLMENT_TYPE`.\n",
    "Finally we use the **laserbeans** `generate_chart` function form the **charts** module to create a **vega** stacked bar chart using **altair**."
   ]
  },
  {
   "cell_type": "code",
   "execution_count": 2,
   "metadata": {},
   "outputs": [
    {
     "data": {
      "application/vnd.vegalite.v2+json": {
       "$schema": "https://vega.github.io/schema/vega-lite/v2.6.0.json",
       "config": {
        "view": {
         "height": 300,
         "width": 400
        }
       },
       "datasets": {
        "data-511d759ab23966d8b9e995f6299fc8a4": [
         {
          "number": 41,
          "type of enrollment request": "matching",
          "week": "2018-01-01T00:00:00"
         },
         {
          "number": 75,
          "type of enrollment request": "matching",
          "week": "2018-01-08T00:00:00"
         },
         {
          "number": 34,
          "type of enrollment request": "matching",
          "week": "2018-01-15T00:00:00"
         },
         {
          "number": 24,
          "type of enrollment request": "matching",
          "week": "2018-01-22T00:00:00"
         },
         {
          "number": 34,
          "type of enrollment request": "matching",
          "week": "2018-01-29T00:00:00"
         },
         {
          "number": 29,
          "type of enrollment request": "matching",
          "week": "2018-02-05T00:00:00"
         },
         {
          "number": 38,
          "type of enrollment request": "matching",
          "week": "2018-02-12T00:00:00"
         },
         {
          "number": 38,
          "type of enrollment request": "matching",
          "week": "2018-02-19T00:00:00"
         },
         {
          "number": 45,
          "type of enrollment request": "matching",
          "week": "2018-02-26T00:00:00"
         },
         {
          "number": 58,
          "type of enrollment request": "matching",
          "week": "2018-03-05T00:00:00"
         },
         {
          "number": 55,
          "type of enrollment request": "matching",
          "week": "2018-03-12T00:00:00"
         },
         {
          "number": 70,
          "type of enrollment request": "matching",
          "week": "2018-03-19T00:00:00"
         },
         {
          "number": 64,
          "type of enrollment request": "matching",
          "week": "2018-03-26T00:00:00"
         },
         {
          "number": 44,
          "type of enrollment request": "matching",
          "week": "2018-04-02T00:00:00"
         },
         {
          "number": 68,
          "type of enrollment request": "matching",
          "week": "2018-04-09T00:00:00"
         },
         {
          "number": 105,
          "type of enrollment request": "matching",
          "week": "2018-04-16T00:00:00"
         },
         {
          "number": 234,
          "type of enrollment request": "matching",
          "week": "2018-04-23T00:00:00"
         },
         {
          "number": 188,
          "type of enrollment request": "matching",
          "week": "2018-04-30T00:00:00"
         },
         {
          "number": 9,
          "type of enrollment request": "matching",
          "week": "2018-05-07T00:00:00"
         },
         {
          "number": 1,
          "type of enrollment request": "matching",
          "week": "2018-05-14T00:00:00"
         },
         {
          "number": 7,
          "type of enrollment request": "matching",
          "week": "2018-05-21T00:00:00"
         },
         {
          "number": 8,
          "type of enrollment request": "matching",
          "week": "2018-05-28T00:00:00"
         },
         {
          "number": 8,
          "type of enrollment request": "matching",
          "week": "2018-06-04T00:00:00"
         },
         {
          "number": 6,
          "type of enrollment request": "matching",
          "week": "2018-06-11T00:00:00"
         },
         {
          "number": 6,
          "type of enrollment request": "matching",
          "week": "2018-06-18T00:00:00"
         },
         {
          "number": 3,
          "type of enrollment request": "matching",
          "week": "2018-06-25T00:00:00"
         },
         {
          "number": 2,
          "type of enrollment request": "matching",
          "week": "2018-07-02T00:00:00"
         },
         {
          "number": 8,
          "type of enrollment request": "matching",
          "week": "2018-07-09T00:00:00"
         },
         {
          "number": 10,
          "type of enrollment request": "matching",
          "week": "2018-07-16T00:00:00"
         },
         {
          "number": 11,
          "type of enrollment request": "matching",
          "week": "2018-07-23T00:00:00"
         },
         {
          "number": 12,
          "type of enrollment request": "matching",
          "week": "2018-07-30T00:00:00"
         },
         {
          "number": 7,
          "type of enrollment request": "matching",
          "week": "2018-08-06T00:00:00"
         },
         {
          "number": 4,
          "type of enrollment request": "matching",
          "week": "2018-08-13T00:00:00"
         },
         {
          "number": 5,
          "type of enrollment request": "matching",
          "week": "2018-08-20T00:00:00"
         },
         {
          "number": 3,
          "type of enrollment request": "matching",
          "week": "2018-08-27T00:00:00"
         },
         {
          "number": 1,
          "type of enrollment request": "matching",
          "week": "2018-09-03T00:00:00"
         },
         {
          "number": null,
          "type of enrollment request": "matching",
          "week": "2018-09-10T00:00:00"
         },
         {
          "number": null,
          "type of enrollment request": "matching",
          "week": "2018-09-17T00:00:00"
         },
         {
          "number": 5,
          "type of enrollment request": "matching",
          "week": "2017-09-25T00:00:00"
         },
         {
          "number": null,
          "type of enrollment request": "matching",
          "week": "2018-09-24T00:00:00"
         },
         {
          "number": 14,
          "type of enrollment request": "matching",
          "week": "2017-10-02T00:00:00"
         },
         {
          "number": 11,
          "type of enrollment request": "matching",
          "week": "2017-10-09T00:00:00"
         },
         {
          "number": 11,
          "type of enrollment request": "matching",
          "week": "2017-10-16T00:00:00"
         },
         {
          "number": 8,
          "type of enrollment request": "matching",
          "week": "2017-10-23T00:00:00"
         },
         {
          "number": 6,
          "type of enrollment request": "matching",
          "week": "2017-10-30T00:00:00"
         },
         {
          "number": 5,
          "type of enrollment request": "matching",
          "week": "2017-11-06T00:00:00"
         },
         {
          "number": 13,
          "type of enrollment request": "matching",
          "week": "2017-11-13T00:00:00"
         },
         {
          "number": 13,
          "type of enrollment request": "matching",
          "week": "2017-11-20T00:00:00"
         },
         {
          "number": 21,
          "type of enrollment request": "matching",
          "week": "2017-11-27T00:00:00"
         },
         {
          "number": 24,
          "type of enrollment request": "matching",
          "week": "2017-12-04T00:00:00"
         },
         {
          "number": 25,
          "type of enrollment request": "matching",
          "week": "2017-12-11T00:00:00"
         },
         {
          "number": 17,
          "type of enrollment request": "matching",
          "week": "2017-12-18T00:00:00"
         },
         {
          "number": 34,
          "type of enrollment request": "matching",
          "week": "2017-12-25T00:00:00"
         },
         {
          "number": 52,
          "type of enrollment request": "draw",
          "week": "2018-01-01T00:00:00"
         },
         {
          "number": 86,
          "type of enrollment request": "draw",
          "week": "2018-01-08T00:00:00"
         },
         {
          "number": 19,
          "type of enrollment request": "draw",
          "week": "2018-01-15T00:00:00"
         },
         {
          "number": null,
          "type of enrollment request": "draw",
          "week": "2018-01-22T00:00:00"
         },
         {
          "number": null,
          "type of enrollment request": "draw",
          "week": "2018-01-29T00:00:00"
         },
         {
          "number": null,
          "type of enrollment request": "draw",
          "week": "2018-02-05T00:00:00"
         },
         {
          "number": null,
          "type of enrollment request": "draw",
          "week": "2018-02-12T00:00:00"
         },
         {
          "number": null,
          "type of enrollment request": "draw",
          "week": "2018-02-19T00:00:00"
         },
         {
          "number": null,
          "type of enrollment request": "draw",
          "week": "2018-02-26T00:00:00"
         },
         {
          "number": null,
          "type of enrollment request": "draw",
          "week": "2018-03-05T00:00:00"
         },
         {
          "number": null,
          "type of enrollment request": "draw",
          "week": "2018-03-12T00:00:00"
         },
         {
          "number": null,
          "type of enrollment request": "draw",
          "week": "2018-03-19T00:00:00"
         },
         {
          "number": null,
          "type of enrollment request": "draw",
          "week": "2018-03-26T00:00:00"
         },
         {
          "number": null,
          "type of enrollment request": "draw",
          "week": "2018-04-02T00:00:00"
         },
         {
          "number": null,
          "type of enrollment request": "draw",
          "week": "2018-04-09T00:00:00"
         },
         {
          "number": null,
          "type of enrollment request": "draw",
          "week": "2018-04-16T00:00:00"
         },
         {
          "number": null,
          "type of enrollment request": "draw",
          "week": "2018-04-23T00:00:00"
         },
         {
          "number": null,
          "type of enrollment request": "draw",
          "week": "2018-04-30T00:00:00"
         },
         {
          "number": null,
          "type of enrollment request": "draw",
          "week": "2018-05-07T00:00:00"
         },
         {
          "number": null,
          "type of enrollment request": "draw",
          "week": "2018-05-14T00:00:00"
         },
         {
          "number": null,
          "type of enrollment request": "draw",
          "week": "2018-05-21T00:00:00"
         },
         {
          "number": null,
          "type of enrollment request": "draw",
          "week": "2018-05-28T00:00:00"
         },
         {
          "number": null,
          "type of enrollment request": "draw",
          "week": "2018-06-04T00:00:00"
         },
         {
          "number": null,
          "type of enrollment request": "draw",
          "week": "2018-06-11T00:00:00"
         },
         {
          "number": null,
          "type of enrollment request": "draw",
          "week": "2018-06-18T00:00:00"
         },
         {
          "number": null,
          "type of enrollment request": "draw",
          "week": "2018-06-25T00:00:00"
         },
         {
          "number": null,
          "type of enrollment request": "draw",
          "week": "2018-07-02T00:00:00"
         },
         {
          "number": 1,
          "type of enrollment request": "draw",
          "week": "2018-07-09T00:00:00"
         },
         {
          "number": null,
          "type of enrollment request": "draw",
          "week": "2018-07-16T00:00:00"
         },
         {
          "number": 1,
          "type of enrollment request": "draw",
          "week": "2018-07-23T00:00:00"
         },
         {
          "number": null,
          "type of enrollment request": "draw",
          "week": "2018-07-30T00:00:00"
         },
         {
          "number": null,
          "type of enrollment request": "draw",
          "week": "2018-08-06T00:00:00"
         },
         {
          "number": null,
          "type of enrollment request": "draw",
          "week": "2018-08-13T00:00:00"
         },
         {
          "number": null,
          "type of enrollment request": "draw",
          "week": "2018-08-20T00:00:00"
         },
         {
          "number": null,
          "type of enrollment request": "draw",
          "week": "2018-08-27T00:00:00"
         },
         {
          "number": null,
          "type of enrollment request": "draw",
          "week": "2018-09-03T00:00:00"
         },
         {
          "number": null,
          "type of enrollment request": "draw",
          "week": "2018-09-10T00:00:00"
         },
         {
          "number": null,
          "type of enrollment request": "draw",
          "week": "2018-09-17T00:00:00"
         },
         {
          "number": 30,
          "type of enrollment request": "draw",
          "week": "2017-09-25T00:00:00"
         },
         {
          "number": null,
          "type of enrollment request": "draw",
          "week": "2018-09-24T00:00:00"
         },
         {
          "number": 48,
          "type of enrollment request": "draw",
          "week": "2017-10-02T00:00:00"
         },
         {
          "number": 20,
          "type of enrollment request": "draw",
          "week": "2017-10-09T00:00:00"
         },
         {
          "number": 15,
          "type of enrollment request": "draw",
          "week": "2017-10-16T00:00:00"
         },
         {
          "number": 18,
          "type of enrollment request": "draw",
          "week": "2017-10-23T00:00:00"
         },
         {
          "number": 12,
          "type of enrollment request": "draw",
          "week": "2017-10-30T00:00:00"
         },
         {
          "number": 10,
          "type of enrollment request": "draw",
          "week": "2017-11-06T00:00:00"
         },
         {
          "number": 23,
          "type of enrollment request": "draw",
          "week": "2017-11-13T00:00:00"
         },
         {
          "number": 29,
          "type of enrollment request": "draw",
          "week": "2017-11-20T00:00:00"
         },
         {
          "number": 26,
          "type of enrollment request": "draw",
          "week": "2017-11-27T00:00:00"
         },
         {
          "number": 22,
          "type of enrollment request": "draw",
          "week": "2017-12-04T00:00:00"
         },
         {
          "number": 34,
          "type of enrollment request": "draw",
          "week": "2017-12-11T00:00:00"
         },
         {
          "number": 22,
          "type of enrollment request": "draw",
          "week": "2017-12-18T00:00:00"
         },
         {
          "number": 22,
          "type of enrollment request": "draw",
          "week": "2017-12-25T00:00:00"
         },
         {
          "number": 6,
          "type of enrollment request": "selective",
          "week": "2018-01-01T00:00:00"
         },
         {
          "number": 12,
          "type of enrollment request": "selective",
          "week": "2018-01-08T00:00:00"
         },
         {
          "number": 6,
          "type of enrollment request": "selective",
          "week": "2018-01-15T00:00:00"
         },
         {
          "number": 13,
          "type of enrollment request": "selective",
          "week": "2018-01-22T00:00:00"
         },
         {
          "number": 12,
          "type of enrollment request": "selective",
          "week": "2018-01-29T00:00:00"
         },
         {
          "number": 7,
          "type of enrollment request": "selective",
          "week": "2018-02-05T00:00:00"
         },
         {
          "number": 13,
          "type of enrollment request": "selective",
          "week": "2018-02-12T00:00:00"
         },
         {
          "number": 14,
          "type of enrollment request": "selective",
          "week": "2018-02-19T00:00:00"
         },
         {
          "number": 11,
          "type of enrollment request": "selective",
          "week": "2018-02-26T00:00:00"
         },
         {
          "number": 5,
          "type of enrollment request": "selective",
          "week": "2018-03-05T00:00:00"
         },
         {
          "number": 11,
          "type of enrollment request": "selective",
          "week": "2018-03-12T00:00:00"
         },
         {
          "number": 5,
          "type of enrollment request": "selective",
          "week": "2018-03-19T00:00:00"
         },
         {
          "number": 6,
          "type of enrollment request": "selective",
          "week": "2018-03-26T00:00:00"
         },
         {
          "number": 3,
          "type of enrollment request": "selective",
          "week": "2018-04-02T00:00:00"
         },
         {
          "number": 6,
          "type of enrollment request": "selective",
          "week": "2018-04-09T00:00:00"
         },
         {
          "number": 3,
          "type of enrollment request": "selective",
          "week": "2018-04-16T00:00:00"
         },
         {
          "number": 11,
          "type of enrollment request": "selective",
          "week": "2018-04-23T00:00:00"
         },
         {
          "number": 7,
          "type of enrollment request": "selective",
          "week": "2018-04-30T00:00:00"
         },
         {
          "number": null,
          "type of enrollment request": "selective",
          "week": "2018-05-07T00:00:00"
         },
         {
          "number": null,
          "type of enrollment request": "selective",
          "week": "2018-05-14T00:00:00"
         },
         {
          "number": 2,
          "type of enrollment request": "selective",
          "week": "2018-05-21T00:00:00"
         },
         {
          "number": 2,
          "type of enrollment request": "selective",
          "week": "2018-05-28T00:00:00"
         },
         {
          "number": 2,
          "type of enrollment request": "selective",
          "week": "2018-06-04T00:00:00"
         },
         {
          "number": null,
          "type of enrollment request": "selective",
          "week": "2018-06-11T00:00:00"
         },
         {
          "number": null,
          "type of enrollment request": "selective",
          "week": "2018-06-18T00:00:00"
         },
         {
          "number": null,
          "type of enrollment request": "selective",
          "week": "2018-06-25T00:00:00"
         },
         {
          "number": null,
          "type of enrollment request": "selective",
          "week": "2018-07-02T00:00:00"
         },
         {
          "number": null,
          "type of enrollment request": "selective",
          "week": "2018-07-09T00:00:00"
         },
         {
          "number": 1,
          "type of enrollment request": "selective",
          "week": "2018-07-16T00:00:00"
         },
         {
          "number": null,
          "type of enrollment request": "selective",
          "week": "2018-07-23T00:00:00"
         },
         {
          "number": null,
          "type of enrollment request": "selective",
          "week": "2018-07-30T00:00:00"
         },
         {
          "number": 1,
          "type of enrollment request": "selective",
          "week": "2018-08-06T00:00:00"
         },
         {
          "number": 1,
          "type of enrollment request": "selective",
          "week": "2018-08-13T00:00:00"
         },
         {
          "number": 1,
          "type of enrollment request": "selective",
          "week": "2018-08-20T00:00:00"
         },
         {
          "number": 1,
          "type of enrollment request": "selective",
          "week": "2018-08-27T00:00:00"
         },
         {
          "number": null,
          "type of enrollment request": "selective",
          "week": "2018-09-03T00:00:00"
         },
         {
          "number": null,
          "type of enrollment request": "selective",
          "week": "2018-09-10T00:00:00"
         },
         {
          "number": null,
          "type of enrollment request": "selective",
          "week": "2018-09-17T00:00:00"
         },
         {
          "number": 2,
          "type of enrollment request": "selective",
          "week": "2017-09-25T00:00:00"
         },
         {
          "number": 1,
          "type of enrollment request": "selective",
          "week": "2018-09-24T00:00:00"
         },
         {
          "number": 2,
          "type of enrollment request": "selective",
          "week": "2017-10-02T00:00:00"
         },
         {
          "number": null,
          "type of enrollment request": "selective",
          "week": "2017-10-09T00:00:00"
         },
         {
          "number": 2,
          "type of enrollment request": "selective",
          "week": "2017-10-16T00:00:00"
         },
         {
          "number": 1,
          "type of enrollment request": "selective",
          "week": "2017-10-23T00:00:00"
         },
         {
          "number": 3,
          "type of enrollment request": "selective",
          "week": "2017-10-30T00:00:00"
         },
         {
          "number": 3,
          "type of enrollment request": "selective",
          "week": "2017-11-06T00:00:00"
         },
         {
          "number": 3,
          "type of enrollment request": "selective",
          "week": "2017-11-13T00:00:00"
         },
         {
          "number": 1,
          "type of enrollment request": "selective",
          "week": "2017-11-20T00:00:00"
         },
         {
          "number": 6,
          "type of enrollment request": "selective",
          "week": "2017-11-27T00:00:00"
         },
         {
          "number": 5,
          "type of enrollment request": "selective",
          "week": "2017-12-04T00:00:00"
         },
         {
          "number": null,
          "type of enrollment request": "selective",
          "week": "2017-12-11T00:00:00"
         },
         {
          "number": 9,
          "type of enrollment request": "selective",
          "week": "2017-12-18T00:00:00"
         },
         {
          "number": 2,
          "type of enrollment request": "selective",
          "week": "2017-12-25T00:00:00"
         },
         {
          "number": null,
          "type of enrollment request": "premaster",
          "week": "2018-01-01T00:00:00"
         },
         {
          "number": 2,
          "type of enrollment request": "premaster",
          "week": "2018-01-08T00:00:00"
         },
         {
          "number": 2,
          "type of enrollment request": "premaster",
          "week": "2018-01-15T00:00:00"
         },
         {
          "number": 1,
          "type of enrollment request": "premaster",
          "week": "2018-01-22T00:00:00"
         },
         {
          "number": 1,
          "type of enrollment request": "premaster",
          "week": "2018-01-29T00:00:00"
         },
         {
          "number": 1,
          "type of enrollment request": "premaster",
          "week": "2018-02-05T00:00:00"
         },
         {
          "number": 4,
          "type of enrollment request": "premaster",
          "week": "2018-02-12T00:00:00"
         },
         {
          "number": 2,
          "type of enrollment request": "premaster",
          "week": "2018-02-19T00:00:00"
         },
         {
          "number": 2,
          "type of enrollment request": "premaster",
          "week": "2018-02-26T00:00:00"
         },
         {
          "number": 7,
          "type of enrollment request": "premaster",
          "week": "2018-03-05T00:00:00"
         },
         {
          "number": 3,
          "type of enrollment request": "premaster",
          "week": "2018-03-12T00:00:00"
         },
         {
          "number": 3,
          "type of enrollment request": "premaster",
          "week": "2018-03-19T00:00:00"
         },
         {
          "number": 9,
          "type of enrollment request": "premaster",
          "week": "2018-03-26T00:00:00"
         },
         {
          "number": 2,
          "type of enrollment request": "premaster",
          "week": "2018-04-02T00:00:00"
         },
         {
          "number": 3,
          "type of enrollment request": "premaster",
          "week": "2018-04-09T00:00:00"
         },
         {
          "number": 7,
          "type of enrollment request": "premaster",
          "week": "2018-04-16T00:00:00"
         },
         {
          "number": 10,
          "type of enrollment request": "premaster",
          "week": "2018-04-23T00:00:00"
         },
         {
          "number": 6,
          "type of enrollment request": "premaster",
          "week": "2018-04-30T00:00:00"
         },
         {
          "number": 2,
          "type of enrollment request": "premaster",
          "week": "2018-05-07T00:00:00"
         },
         {
          "number": 2,
          "type of enrollment request": "premaster",
          "week": "2018-05-14T00:00:00"
         },
         {
          "number": 6,
          "type of enrollment request": "premaster",
          "week": "2018-05-21T00:00:00"
         },
         {
          "number": 14,
          "type of enrollment request": "premaster",
          "week": "2018-05-28T00:00:00"
         },
         {
          "number": 5,
          "type of enrollment request": "premaster",
          "week": "2018-06-04T00:00:00"
         },
         {
          "number": 1,
          "type of enrollment request": "premaster",
          "week": "2018-06-11T00:00:00"
         },
         {
          "number": 8,
          "type of enrollment request": "premaster",
          "week": "2018-06-18T00:00:00"
         },
         {
          "number": 8,
          "type of enrollment request": "premaster",
          "week": "2018-06-25T00:00:00"
         },
         {
          "number": 3,
          "type of enrollment request": "premaster",
          "week": "2018-07-02T00:00:00"
         },
         {
          "number": 4,
          "type of enrollment request": "premaster",
          "week": "2018-07-09T00:00:00"
         },
         {
          "number": 1,
          "type of enrollment request": "premaster",
          "week": "2018-07-16T00:00:00"
         },
         {
          "number": 1,
          "type of enrollment request": "premaster",
          "week": "2018-07-23T00:00:00"
         },
         {
          "number": 2,
          "type of enrollment request": "premaster",
          "week": "2018-07-30T00:00:00"
         },
         {
          "number": 1,
          "type of enrollment request": "premaster",
          "week": "2018-08-06T00:00:00"
         },
         {
          "number": 1,
          "type of enrollment request": "premaster",
          "week": "2018-08-13T00:00:00"
         },
         {
          "number": null,
          "type of enrollment request": "premaster",
          "week": "2018-08-20T00:00:00"
         },
         {
          "number": null,
          "type of enrollment request": "premaster",
          "week": "2018-08-27T00:00:00"
         },
         {
          "number": 1,
          "type of enrollment request": "premaster",
          "week": "2018-09-03T00:00:00"
         },
         {
          "number": null,
          "type of enrollment request": "premaster",
          "week": "2018-09-10T00:00:00"
         },
         {
          "number": null,
          "type of enrollment request": "premaster",
          "week": "2018-09-17T00:00:00"
         },
         {
          "number": null,
          "type of enrollment request": "premaster",
          "week": "2017-09-25T00:00:00"
         },
         {
          "number": null,
          "type of enrollment request": "premaster",
          "week": "2018-09-24T00:00:00"
         },
         {
          "number": null,
          "type of enrollment request": "premaster",
          "week": "2017-10-02T00:00:00"
         },
         {
          "number": 1,
          "type of enrollment request": "premaster",
          "week": "2017-10-09T00:00:00"
         },
         {
          "number": null,
          "type of enrollment request": "premaster",
          "week": "2017-10-16T00:00:00"
         },
         {
          "number": 1,
          "type of enrollment request": "premaster",
          "week": "2017-10-23T00:00:00"
         },
         {
          "number": null,
          "type of enrollment request": "premaster",
          "week": "2017-10-30T00:00:00"
         },
         {
          "number": null,
          "type of enrollment request": "premaster",
          "week": "2017-11-06T00:00:00"
         },
         {
          "number": null,
          "type of enrollment request": "premaster",
          "week": "2017-11-13T00:00:00"
         },
         {
          "number": null,
          "type of enrollment request": "premaster",
          "week": "2017-11-20T00:00:00"
         },
         {
          "number": null,
          "type of enrollment request": "premaster",
          "week": "2017-11-27T00:00:00"
         },
         {
          "number": null,
          "type of enrollment request": "premaster",
          "week": "2017-12-04T00:00:00"
         },
         {
          "number": 1,
          "type of enrollment request": "premaster",
          "week": "2017-12-11T00:00:00"
         },
         {
          "number": null,
          "type of enrollment request": "premaster",
          "week": "2017-12-18T00:00:00"
         },
         {
          "number": 1,
          "type of enrollment request": "premaster",
          "week": "2017-12-25T00:00:00"
         },
         {
          "number": 60,
          "type of enrollment request": "master",
          "week": "2018-01-01T00:00:00"
         },
         {
          "number": 49,
          "type of enrollment request": "master",
          "week": "2018-01-08T00:00:00"
         },
         {
          "number": 65,
          "type of enrollment request": "master",
          "week": "2018-01-15T00:00:00"
         },
         {
          "number": 54,
          "type of enrollment request": "master",
          "week": "2018-01-22T00:00:00"
         },
         {
          "number": 64,
          "type of enrollment request": "master",
          "week": "2018-01-29T00:00:00"
         },
         {
          "number": 51,
          "type of enrollment request": "master",
          "week": "2018-02-05T00:00:00"
         },
         {
          "number": 57,
          "type of enrollment request": "master",
          "week": "2018-02-12T00:00:00"
         },
         {
          "number": 64,
          "type of enrollment request": "master",
          "week": "2018-02-19T00:00:00"
         },
         {
          "number": 90,
          "type of enrollment request": "master",
          "week": "2018-02-26T00:00:00"
         },
         {
          "number": 72,
          "type of enrollment request": "master",
          "week": "2018-03-05T00:00:00"
         },
         {
          "number": 108,
          "type of enrollment request": "master",
          "week": "2018-03-12T00:00:00"
         },
         {
          "number": 141,
          "type of enrollment request": "master",
          "week": "2018-03-19T00:00:00"
         },
         {
          "number": 194,
          "type of enrollment request": "master",
          "week": "2018-03-26T00:00:00"
         },
         {
          "number": 24,
          "type of enrollment request": "master",
          "week": "2018-04-02T00:00:00"
         },
         {
          "number": 47,
          "type of enrollment request": "master",
          "week": "2018-04-09T00:00:00"
         },
         {
          "number": 48,
          "type of enrollment request": "master",
          "week": "2018-04-16T00:00:00"
         },
         {
          "number": 76,
          "type of enrollment request": "master",
          "week": "2018-04-23T00:00:00"
         },
         {
          "number": 48,
          "type of enrollment request": "master",
          "week": "2018-04-30T00:00:00"
         },
         {
          "number": 37,
          "type of enrollment request": "master",
          "week": "2018-05-07T00:00:00"
         },
         {
          "number": 55,
          "type of enrollment request": "master",
          "week": "2018-05-14T00:00:00"
         },
         {
          "number": 76,
          "type of enrollment request": "master",
          "week": "2018-05-21T00:00:00"
         },
         {
          "number": 106,
          "type of enrollment request": "master",
          "week": "2018-05-28T00:00:00"
         },
         {
          "number": 10,
          "type of enrollment request": "master",
          "week": "2018-06-04T00:00:00"
         },
         {
          "number": 5,
          "type of enrollment request": "master",
          "week": "2018-06-11T00:00:00"
         },
         {
          "number": 8,
          "type of enrollment request": "master",
          "week": "2018-06-18T00:00:00"
         },
         {
          "number": 6,
          "type of enrollment request": "master",
          "week": "2018-06-25T00:00:00"
         },
         {
          "number": 2,
          "type of enrollment request": "master",
          "week": "2018-07-02T00:00:00"
         },
         {
          "number": 11,
          "type of enrollment request": "master",
          "week": "2018-07-09T00:00:00"
         },
         {
          "number": 5,
          "type of enrollment request": "master",
          "week": "2018-07-16T00:00:00"
         },
         {
          "number": 2,
          "type of enrollment request": "master",
          "week": "2018-07-23T00:00:00"
         },
         {
          "number": 2,
          "type of enrollment request": "master",
          "week": "2018-07-30T00:00:00"
         },
         {
          "number": 4,
          "type of enrollment request": "master",
          "week": "2018-08-06T00:00:00"
         },
         {
          "number": 3,
          "type of enrollment request": "master",
          "week": "2018-08-13T00:00:00"
         },
         {
          "number": null,
          "type of enrollment request": "master",
          "week": "2018-08-20T00:00:00"
         },
         {
          "number": 8,
          "type of enrollment request": "master",
          "week": "2018-08-27T00:00:00"
         },
         {
          "number": 1,
          "type of enrollment request": "master",
          "week": "2018-09-03T00:00:00"
         },
         {
          "number": 2,
          "type of enrollment request": "master",
          "week": "2018-09-10T00:00:00"
         },
         {
          "number": 5,
          "type of enrollment request": "master",
          "week": "2018-09-17T00:00:00"
         },
         {
          "number": 9,
          "type of enrollment request": "master",
          "week": "2017-09-25T00:00:00"
         },
         {
          "number": 1,
          "type of enrollment request": "master",
          "week": "2018-09-24T00:00:00"
         },
         {
          "number": 38,
          "type of enrollment request": "master",
          "week": "2017-10-02T00:00:00"
         },
         {
          "number": 40,
          "type of enrollment request": "master",
          "week": "2017-10-09T00:00:00"
         },
         {
          "number": 28,
          "type of enrollment request": "master",
          "week": "2017-10-16T00:00:00"
         },
         {
          "number": 30,
          "type of enrollment request": "master",
          "week": "2017-10-23T00:00:00"
         },
         {
          "number": 24,
          "type of enrollment request": "master",
          "week": "2017-10-30T00:00:00"
         },
         {
          "number": 40,
          "type of enrollment request": "master",
          "week": "2017-11-06T00:00:00"
         },
         {
          "number": 33,
          "type of enrollment request": "master",
          "week": "2017-11-13T00:00:00"
         },
         {
          "number": 32,
          "type of enrollment request": "master",
          "week": "2017-11-20T00:00:00"
         },
         {
          "number": 41,
          "type of enrollment request": "master",
          "week": "2017-11-27T00:00:00"
         },
         {
          "number": 41,
          "type of enrollment request": "master",
          "week": "2017-12-04T00:00:00"
         },
         {
          "number": 29,
          "type of enrollment request": "master",
          "week": "2017-12-11T00:00:00"
         },
         {
          "number": 29,
          "type of enrollment request": "master",
          "week": "2017-12-18T00:00:00"
         },
         {
          "number": 23,
          "type of enrollment request": "master",
          "week": "2017-12-25T00:00:00"
         },
         {
          "number": 1,
          "type of enrollment request": "reenrollment",
          "week": "2018-01-01T00:00:00"
         },
         {
          "number": 1,
          "type of enrollment request": "reenrollment",
          "week": "2018-01-08T00:00:00"
         },
         {
          "number": 1,
          "type of enrollment request": "reenrollment",
          "week": "2018-01-15T00:00:00"
         },
         {
          "number": null,
          "type of enrollment request": "reenrollment",
          "week": "2018-01-22T00:00:00"
         },
         {
          "number": 1,
          "type of enrollment request": "reenrollment",
          "week": "2018-01-29T00:00:00"
         },
         {
          "number": 1,
          "type of enrollment request": "reenrollment",
          "week": "2018-02-05T00:00:00"
         },
         {
          "number": 3,
          "type of enrollment request": "reenrollment",
          "week": "2018-02-12T00:00:00"
         },
         {
          "number": null,
          "type of enrollment request": "reenrollment",
          "week": "2018-02-19T00:00:00"
         },
         {
          "number": null,
          "type of enrollment request": "reenrollment",
          "week": "2018-02-26T00:00:00"
         },
         {
          "number": null,
          "type of enrollment request": "reenrollment",
          "week": "2018-03-05T00:00:00"
         },
         {
          "number": 3,
          "type of enrollment request": "reenrollment",
          "week": "2018-03-12T00:00:00"
         },
         {
          "number": 3,
          "type of enrollment request": "reenrollment",
          "week": "2018-03-19T00:00:00"
         },
         {
          "number": 1,
          "type of enrollment request": "reenrollment",
          "week": "2018-03-26T00:00:00"
         },
         {
          "number": 4,
          "type of enrollment request": "reenrollment",
          "week": "2018-04-02T00:00:00"
         },
         {
          "number": 3,
          "type of enrollment request": "reenrollment",
          "week": "2018-04-09T00:00:00"
         },
         {
          "number": 4,
          "type of enrollment request": "reenrollment",
          "week": "2018-04-16T00:00:00"
         },
         {
          "number": 7,
          "type of enrollment request": "reenrollment",
          "week": "2018-04-23T00:00:00"
         },
         {
          "number": 5,
          "type of enrollment request": "reenrollment",
          "week": "2018-04-30T00:00:00"
         },
         {
          "number": 3,
          "type of enrollment request": "reenrollment",
          "week": "2018-05-07T00:00:00"
         },
         {
          "number": 2,
          "type of enrollment request": "reenrollment",
          "week": "2018-05-14T00:00:00"
         },
         {
          "number": 1,
          "type of enrollment request": "reenrollment",
          "week": "2018-05-21T00:00:00"
         },
         {
          "number": 39,
          "type of enrollment request": "reenrollment",
          "week": "2018-05-28T00:00:00"
         },
         {
          "number": 841,
          "type of enrollment request": "reenrollment",
          "week": "2018-06-04T00:00:00"
         },
         {
          "number": 213,
          "type of enrollment request": "reenrollment",
          "week": "2018-06-11T00:00:00"
         },
         {
          "number": 197,
          "type of enrollment request": "reenrollment",
          "week": "2018-06-18T00:00:00"
         },
         {
          "number": 118,
          "type of enrollment request": "reenrollment",
          "week": "2018-06-25T00:00:00"
         },
         {
          "number": 210,
          "type of enrollment request": "reenrollment",
          "week": "2018-07-02T00:00:00"
         },
         {
          "number": 124,
          "type of enrollment request": "reenrollment",
          "week": "2018-07-09T00:00:00"
         },
         {
          "number": 114,
          "type of enrollment request": "reenrollment",
          "week": "2018-07-16T00:00:00"
         },
         {
          "number": 115,
          "type of enrollment request": "reenrollment",
          "week": "2018-07-23T00:00:00"
         },
         {
          "number": 156,
          "type of enrollment request": "reenrollment",
          "week": "2018-07-30T00:00:00"
         },
         {
          "number": 112,
          "type of enrollment request": "reenrollment",
          "week": "2018-08-06T00:00:00"
         },
         {
          "number": 130,
          "type of enrollment request": "reenrollment",
          "week": "2018-08-13T00:00:00"
         },
         {
          "number": 128,
          "type of enrollment request": "reenrollment",
          "week": "2018-08-20T00:00:00"
         },
         {
          "number": 171,
          "type of enrollment request": "reenrollment",
          "week": "2018-08-27T00:00:00"
         },
         {
          "number": 5,
          "type of enrollment request": "reenrollment",
          "week": "2018-09-03T00:00:00"
         },
         {
          "number": 1,
          "type of enrollment request": "reenrollment",
          "week": "2018-09-10T00:00:00"
         },
         {
          "number": 4,
          "type of enrollment request": "reenrollment",
          "week": "2018-09-17T00:00:00"
         },
         {
          "number": null,
          "type of enrollment request": "reenrollment",
          "week": "2017-09-25T00:00:00"
         },
         {
          "number": 2,
          "type of enrollment request": "reenrollment",
          "week": "2018-09-24T00:00:00"
         },
         {
          "number": null,
          "type of enrollment request": "reenrollment",
          "week": "2017-10-02T00:00:00"
         },
         {
          "number": null,
          "type of enrollment request": "reenrollment",
          "week": "2017-10-09T00:00:00"
         },
         {
          "number": null,
          "type of enrollment request": "reenrollment",
          "week": "2017-10-16T00:00:00"
         },
         {
          "number": null,
          "type of enrollment request": "reenrollment",
          "week": "2017-10-23T00:00:00"
         },
         {
          "number": null,
          "type of enrollment request": "reenrollment",
          "week": "2017-10-30T00:00:00"
         },
         {
          "number": null,
          "type of enrollment request": "reenrollment",
          "week": "2017-11-06T00:00:00"
         },
         {
          "number": null,
          "type of enrollment request": "reenrollment",
          "week": "2017-11-13T00:00:00"
         },
         {
          "number": null,
          "type of enrollment request": "reenrollment",
          "week": "2017-11-20T00:00:00"
         },
         {
          "number": null,
          "type of enrollment request": "reenrollment",
          "week": "2017-11-27T00:00:00"
         },
         {
          "number": null,
          "type of enrollment request": "reenrollment",
          "week": "2017-12-04T00:00:00"
         },
         {
          "number": null,
          "type of enrollment request": "reenrollment",
          "week": "2017-12-11T00:00:00"
         },
         {
          "number": null,
          "type of enrollment request": "reenrollment",
          "week": "2017-12-18T00:00:00"
         },
         {
          "number": null,
          "type of enrollment request": "reenrollment",
          "week": "2017-12-25T00:00:00"
         }
        ]
       },
       "hconcat": [
        {
         "vconcat": [
          {
           "data": {
            "name": "data-511d759ab23966d8b9e995f6299fc8a4"
           },
           "encoding": {
            "color": {
             "field": "type of enrollment request",
             "legend": null,
             "type": "nominal"
            },
            "order": {
             "field": "type of enrollment request",
             "sort": "descending",
             "type": "nominal"
            },
            "x": {
             "axis": {
              "format": "week: %U, %Y",
              "title": null,
              "values": [
               {
                "date": 1,
                "month": 10,
                "year": 2017
               },
               {
                "date": 8,
                "month": 10,
                "year": 2017
               },
               {
                "date": 15,
                "month": 10,
                "year": 2017
               },
               {
                "date": 22,
                "month": 10,
                "year": 2017
               },
               {
                "date": 29,
                "month": 10,
                "year": 2017
               },
               {
                "date": 5,
                "month": 11,
                "year": 2017
               },
               {
                "date": 12,
                "month": 11,
                "year": 2017
               },
               {
                "date": 19,
                "month": 11,
                "year": 2017
               },
               {
                "date": 26,
                "month": 11,
                "year": 2017
               },
               {
                "date": 3,
                "month": 12,
                "year": 2017
               },
               {
                "date": 10,
                "month": 12,
                "year": 2017
               },
               {
                "date": 17,
                "month": 12,
                "year": 2017
               },
               {
                "date": 24,
                "month": 12,
                "year": 2017
               },
               {
                "date": 31,
                "month": 12,
                "year": 2017
               },
               {
                "date": 7,
                "month": 1,
                "year": 2018
               },
               {
                "date": 14,
                "month": 1,
                "year": 2018
               },
               {
                "date": 21,
                "month": 1,
                "year": 2018
               },
               {
                "date": 28,
                "month": 1,
                "year": 2018
               },
               {
                "date": 4,
                "month": 2,
                "year": 2018
               },
               {
                "date": 11,
                "month": 2,
                "year": 2018
               },
               {
                "date": 18,
                "month": 2,
                "year": 2018
               },
               {
                "date": 25,
                "month": 2,
                "year": 2018
               },
               {
                "date": 4,
                "month": 3,
                "year": 2018
               },
               {
                "date": 11,
                "month": 3,
                "year": 2018
               },
               {
                "date": 18,
                "month": 3,
                "year": 2018
               },
               {
                "date": 25,
                "month": 3,
                "year": 2018
               },
               {
                "date": 1,
                "month": 4,
                "year": 2018
               },
               {
                "date": 8,
                "month": 4,
                "year": 2018
               },
               {
                "date": 15,
                "month": 4,
                "year": 2018
               },
               {
                "date": 22,
                "month": 4,
                "year": 2018
               },
               {
                "date": 29,
                "month": 4,
                "year": 2018
               },
               {
                "date": 6,
                "month": 5,
                "year": 2018
               },
               {
                "date": 13,
                "month": 5,
                "year": 2018
               },
               {
                "date": 20,
                "month": 5,
                "year": 2018
               },
               {
                "date": 27,
                "month": 5,
                "year": 2018
               },
               {
                "date": 3,
                "month": 6,
                "year": 2018
               },
               {
                "date": 10,
                "month": 6,
                "year": 2018
               },
               {
                "date": 17,
                "month": 6,
                "year": 2018
               },
               {
                "date": 24,
                "month": 6,
                "year": 2018
               },
               {
                "date": 1,
                "month": 7,
                "year": 2018
               },
               {
                "date": 8,
                "month": 7,
                "year": 2018
               },
               {
                "date": 15,
                "month": 7,
                "year": 2018
               },
               {
                "date": 22,
                "month": 7,
                "year": 2018
               },
               {
                "date": 29,
                "month": 7,
                "year": 2018
               },
               {
                "date": 5,
                "month": 8,
                "year": 2018
               },
               {
                "date": 12,
                "month": 8,
                "year": 2018
               },
               {
                "date": 19,
                "month": 8,
                "year": 2018
               },
               {
                "date": 26,
                "month": 8,
                "year": 2018
               },
               {
                "date": 2,
                "month": 9,
                "year": 2018
               },
               {
                "date": 9,
                "month": 9,
                "year": 2018
               },
               {
                "date": 16,
                "month": 9,
                "year": 2018
               },
               {
                "date": 23,
                "month": 9,
                "year": 2018
               }
              ]
             },
             "field": "week",
             "scale": {
              "domain": {
               "selection": "selector002"
              },
              "nice": false
             },
             "type": "temporal"
            },
            "y": {
             "field": "number",
             "stack": "zero",
             "type": "quantitative"
            }
           },
           "mark": {
            "clip": true,
            "type": "bar"
           },
           "transform": [
            {
             "filter": {
              "selection": "selector001"
             }
            }
           ],
           "width": 600
          },
          {
           "data": {
            "name": "data-511d759ab23966d8b9e995f6299fc8a4"
           },
           "encoding": {
            "color": {
             "field": "type of enrollment request",
             "legend": null,
             "type": "nominal"
            },
            "order": {
             "field": "type of enrollment request",
             "sort": "descending",
             "type": "nominal"
            },
            "x": {
             "axis": {
              "format": "week: %U, %Y"
             },
             "field": "week",
             "scale": {
              "nice": false
             },
             "type": "temporal"
            },
            "y": {
             "axis": {
              "title": null
             },
             "field": "number",
             "type": "quantitative"
            }
           },
           "height": 60,
           "mark": {
            "clip": true,
            "type": "bar"
           },
           "selection": {
            "selector002": {
             "encodings": [
              "x"
             ],
             "mark": {
              "fill": "#333",
              "fillOpacity": 0.125,
              "stroke": "white"
             },
             "on": "[mousedown, window:mouseup] > window:mousemove!",
             "resolve": "global",
             "translate": "[mousedown, window:mouseup] > window:mousemove!",
             "type": "interval",
             "zoom": "wheel!"
            }
           },
           "transform": [
            {
             "filter": {
              "selection": "selector001"
             }
            }
           ],
           "width": 600
          }
         ]
        },
        {
         "data": {
          "name": "data-511d759ab23966d8b9e995f6299fc8a4"
         },
         "encoding": {
          "color": {
           "condition": {
            "field": "type of enrollment request",
            "legend": null,
            "selection": "selector001",
            "type": "nominal"
           },
           "value": "lightgray"
          },
          "size": {
           "condition": {
            "selection": "selector001",
            "value": 200
           },
           "value": 100
          },
          "y": {
           "axis": {
            "domain": false,
            "labelPadding": 5,
            "ticks": false,
            "title": "type of enrollment request"
           },
           "field": "type of enrollment request",
           "sort": [
            "matching",
            "draw",
            "selective",
            "premaster",
            "master",
            "reenrollment"
           ],
           "type": "nominal"
          }
         },
         "height": 180,
         "mark": {
          "cursor": "pointer",
          "type": "square"
         },
         "selection": {
          "selector001": {
           "empty": "all",
           "fields": [
            "type of enrollment request"
           ],
           "on": "click",
           "resolve": "global",
           "toggle": "event.shiftKey",
           "type": "multi"
          }
         },
         "width": 30
        }
       ]
      },
      "image/png": "[encoded data removed]",
      "text/plain": [
       "<VegaLite 2 object>\n",
       "\n",
       "If you see this message, it means the renderer has not been properly enabled\n",
       "for the frontend that you are using. For more information, see\n",
       "https://altair-viz.github.io/user_guide/troubleshooting.html\n"
      ]
     },
     "execution_count": 2,
     "metadata": {},
     "output_type": "execute_result"
    }
   ],
   "source": [
    "qry = \"\"\"ACADEMIC_YEAR == 2018\"\"\"\n",
    "df_rpw = tbl.aggregate_time(df.query(qry), 'REQUEST_DATE', grouper_cols='ENROLLMENT_TYPE', \n",
    "                            start=(2017, 10, 1), end=(2018, 10, 1), unit='W', use_dt=True)\n",
    "df_rpw.index.name = 'week'\n",
    "\n",
    "enrollment_types = df.ENROLLMENT_TYPE.cat.categories.tolist()\n",
    "chrt.generate_chart(df_rpw, 'number', 'type of enrollment request', \n",
    "                    var_order=enrollment_types, mark='bar', zoom=True, stack='zero', unit='W')"
   ]
  }
 ],
 "metadata": {
  "kernelspec": {
   "display_name": "Python 3",
   "language": "python",
   "name": "python3"
  },
  "language_info": {
   "codemirror_mode": {
    "name": "ipython",
    "version": 3
   },
   "file_extension": ".py",
   "mimetype": "text/x-python",
   "name": "python",
   "nbconvert_exporter": "python",
   "pygments_lexer": "ipython3",
   "version": "3.7.0"
  }
 },
 "nbformat": 4,
 "nbformat_minor": 2
}
