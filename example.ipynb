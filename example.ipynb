{
 "cells": [
  {
   "cell_type": "markdown",
   "metadata": {},
   "source": [
    "# LASERBEANS\n",
    "*Tools for quick data exploration and presentation*\n",
    "***\n",
    "This notebook contains some examples for using the **laserbeans** package. We will use fictitious enrollment data to show how to use the different modules and functions. Let's start by importing the necessary packages and data:"
   ]
  },
  {
   "cell_type": "code",
   "execution_count": 1,
   "metadata": {},
   "outputs": [],
   "source": [
    "import pandas as pd\n",
    "import laserbeans.tables as tbl\n",
    "import laserbeans.resamplers as smp\n",
    "import laserbeans.charts as chrt\n",
    "\n",
    "df = pd.read_pickle('test_data/enrollment_data.pkl')"
   ]
  },
  {
   "cell_type": "markdown",
   "metadata": {},
   "source": [
    "### Plotting the number of enrollment request per week for the 2018 academic year\n",
    "In the example below we plot the number of enrolments per week.\n",
    "To do so, we first select only the records for the 2018 academic year with the **pandas** `query` method.\n",
    "Then we use the **laserbeans** `aggregate_time` function from the **tables** module to count the records per week.\n",
    "\n",
    "- The `grouper_cols` is set to *ENROLLMENT_TYPE* as our category.\n",
    "- The (time) `unit` is set to 'W' for weeks.\n",
    "- Finally, setting `use_dt` to `True` returns the weeks as dates instead of week numbers.\n",
    "\n",
    "Because we want to show the enrollment types in their defined order, we create a list from the ordered categories of the field `ENROLLMENT_TYPE`.\n",
    "Finally we use the **laserbeans** `generate_chart` function form the **charts** module to create a **vega** stacked bar chart using **altair**."
   ]
  },
  {
   "cell_type": "code",
   "execution_count": 2,
   "metadata": {},
   "outputs": [
    {
     "data": {
      "application/vnd.vegalite.v2+json": {
       "$schema": "https://vega.github.io/schema/vega-lite/v2.6.0.json",
       "config": {
        "view": {
         "height": 300,
         "width": 400
        }
       },
       "datasets": {
        "data-511d759ab23966d8b9e995f6299fc8a4": [
         {
          "number": 41,
          "type of enrollment request": "matching",
          "week": "2018-01-01T00:00:00"
         },
         {
          "number": 75,
          "type of enrollment request": "matching",
          "week": "2018-01-08T00:00:00"
         },
         {
          "number": 34,
          "type of enrollment request": "matching",
          "week": "2018-01-15T00:00:00"
         },
         {
          "number": 24,
          "type of enrollment request": "matching",
          "week": "2018-01-22T00:00:00"
         },
         {
          "number": 34,
          "type of enrollment request": "matching",
          "week": "2018-01-29T00:00:00"
         },
         {
          "number": 29,
          "type of enrollment request": "matching",
          "week": "2018-02-05T00:00:00"
         },
         {
          "number": 38,
          "type of enrollment request": "matching",
          "week": "2018-02-12T00:00:00"
         },
         {
          "number": 38,
          "type of enrollment request": "matching",
          "week": "2018-02-19T00:00:00"
         },
         {
          "number": 45,
          "type of enrollment request": "matching",
          "week": "2018-02-26T00:00:00"
         },
         {
          "number": 58,
          "type of enrollment request": "matching",
          "week": "2018-03-05T00:00:00"
         },
         {
          "number": 55,
          "type of enrollment request": "matching",
          "week": "2018-03-12T00:00:00"
         },
         {
          "number": 70,
          "type of enrollment request": "matching",
          "week": "2018-03-19T00:00:00"
         },
         {
          "number": 64,
          "type of enrollment request": "matching",
          "week": "2018-03-26T00:00:00"
         },
         {
          "number": 44,
          "type of enrollment request": "matching",
          "week": "2018-04-02T00:00:00"
         },
         {
          "number": 68,
          "type of enrollment request": "matching",
          "week": "2018-04-09T00:00:00"
         },
         {
          "number": 105,
          "type of enrollment request": "matching",
          "week": "2018-04-16T00:00:00"
         },
         {
          "number": 234,
          "type of enrollment request": "matching",
          "week": "2018-04-23T00:00:00"
         },
         {
          "number": 188,
          "type of enrollment request": "matching",
          "week": "2018-04-30T00:00:00"
         },
         {
          "number": 9,
          "type of enrollment request": "matching",
          "week": "2018-05-07T00:00:00"
         },
         {
          "number": 1,
          "type of enrollment request": "matching",
          "week": "2018-05-14T00:00:00"
         },
         {
          "number": 7,
          "type of enrollment request": "matching",
          "week": "2018-05-21T00:00:00"
         },
         {
          "number": 8,
          "type of enrollment request": "matching",
          "week": "2018-05-28T00:00:00"
         },
         {
          "number": 8,
          "type of enrollment request": "matching",
          "week": "2018-06-04T00:00:00"
         },
         {
          "number": 6,
          "type of enrollment request": "matching",
          "week": "2018-06-11T00:00:00"
         },
         {
          "number": 6,
          "type of enrollment request": "matching",
          "week": "2018-06-18T00:00:00"
         },
         {
          "number": 3,
          "type of enrollment request": "matching",
          "week": "2018-06-25T00:00:00"
         },
         {
          "number": 2,
          "type of enrollment request": "matching",
          "week": "2018-07-02T00:00:00"
         },
         {
          "number": 8,
          "type of enrollment request": "matching",
          "week": "2018-07-09T00:00:00"
         },
         {
          "number": 10,
          "type of enrollment request": "matching",
          "week": "2018-07-16T00:00:00"
         },
         {
          "number": 11,
          "type of enrollment request": "matching",
          "week": "2018-07-23T00:00:00"
         },
         {
          "number": 12,
          "type of enrollment request": "matching",
          "week": "2018-07-30T00:00:00"
         },
         {
          "number": 7,
          "type of enrollment request": "matching",
          "week": "2018-08-06T00:00:00"
         },
         {
          "number": 4,
          "type of enrollment request": "matching",
          "week": "2018-08-13T00:00:00"
         },
         {
          "number": 5,
          "type of enrollment request": "matching",
          "week": "2018-08-20T00:00:00"
         },
         {
          "number": 3,
          "type of enrollment request": "matching",
          "week": "2018-08-27T00:00:00"
         },
         {
          "number": 1,
          "type of enrollment request": "matching",
          "week": "2018-09-03T00:00:00"
         },
         {
          "number": null,
          "type of enrollment request": "matching",
          "week": "2018-09-10T00:00:00"
         },
         {
          "number": null,
          "type of enrollment request": "matching",
          "week": "2018-09-17T00:00:00"
         },
         {
          "number": 5,
          "type of enrollment request": "matching",
          "week": "2017-09-25T00:00:00"
         },
         {
          "number": null,
          "type of enrollment request": "matching",
          "week": "2018-09-24T00:00:00"
         },
         {
          "number": 14,
          "type of enrollment request": "matching",
          "week": "2017-10-02T00:00:00"
         },
         {
          "number": 11,
          "type of enrollment request": "matching",
          "week": "2017-10-09T00:00:00"
         },
         {
          "number": 11,
          "type of enrollment request": "matching",
          "week": "2017-10-16T00:00:00"
         },
         {
          "number": 8,
          "type of enrollment request": "matching",
          "week": "2017-10-23T00:00:00"
         },
         {
          "number": 6,
          "type of enrollment request": "matching",
          "week": "2017-10-30T00:00:00"
         },
         {
          "number": 5,
          "type of enrollment request": "matching",
          "week": "2017-11-06T00:00:00"
         },
         {
          "number": 13,
          "type of enrollment request": "matching",
          "week": "2017-11-13T00:00:00"
         },
         {
          "number": 13,
          "type of enrollment request": "matching",
          "week": "2017-11-20T00:00:00"
         },
         {
          "number": 21,
          "type of enrollment request": "matching",
          "week": "2017-11-27T00:00:00"
         },
         {
          "number": 24,
          "type of enrollment request": "matching",
          "week": "2017-12-04T00:00:00"
         },
         {
          "number": 25,
          "type of enrollment request": "matching",
          "week": "2017-12-11T00:00:00"
         },
         {
          "number": 17,
          "type of enrollment request": "matching",
          "week": "2017-12-18T00:00:00"
         },
         {
          "number": 34,
          "type of enrollment request": "matching",
          "week": "2017-12-25T00:00:00"
         },
         {
          "number": 52,
          "type of enrollment request": "draw",
          "week": "2018-01-01T00:00:00"
         },
         {
          "number": 86,
          "type of enrollment request": "draw",
          "week": "2018-01-08T00:00:00"
         },
         {
          "number": 19,
          "type of enrollment request": "draw",
          "week": "2018-01-15T00:00:00"
         },
         {
          "number": null,
          "type of enrollment request": "draw",
          "week": "2018-01-22T00:00:00"
         },
         {
          "number": null,
          "type of enrollment request": "draw",
          "week": "2018-01-29T00:00:00"
         },
         {
          "number": null,
          "type of enrollment request": "draw",
          "week": "2018-02-05T00:00:00"
         },
         {
          "number": null,
          "type of enrollment request": "draw",
          "week": "2018-02-12T00:00:00"
         },
         {
          "number": null,
          "type of enrollment request": "draw",
          "week": "2018-02-19T00:00:00"
         },
         {
          "number": null,
          "type of enrollment request": "draw",
          "week": "2018-02-26T00:00:00"
         },
         {
          "number": null,
          "type of enrollment request": "draw",
          "week": "2018-03-05T00:00:00"
         },
         {
          "number": null,
          "type of enrollment request": "draw",
          "week": "2018-03-12T00:00:00"
         },
         {
          "number": null,
          "type of enrollment request": "draw",
          "week": "2018-03-19T00:00:00"
         },
         {
          "number": null,
          "type of enrollment request": "draw",
          "week": "2018-03-26T00:00:00"
         },
         {
          "number": null,
          "type of enrollment request": "draw",
          "week": "2018-04-02T00:00:00"
         },
         {
          "number": null,
          "type of enrollment request": "draw",
          "week": "2018-04-09T00:00:00"
         },
         {
          "number": null,
          "type of enrollment request": "draw",
          "week": "2018-04-16T00:00:00"
         },
         {
          "number": null,
          "type of enrollment request": "draw",
          "week": "2018-04-23T00:00:00"
         },
         {
          "number": null,
          "type of enrollment request": "draw",
          "week": "2018-04-30T00:00:00"
         },
         {
          "number": null,
          "type of enrollment request": "draw",
          "week": "2018-05-07T00:00:00"
         },
         {
          "number": null,
          "type of enrollment request": "draw",
          "week": "2018-05-14T00:00:00"
         },
         {
          "number": null,
          "type of enrollment request": "draw",
          "week": "2018-05-21T00:00:00"
         },
         {
          "number": null,
          "type of enrollment request": "draw",
          "week": "2018-05-28T00:00:00"
         },
         {
          "number": null,
          "type of enrollment request": "draw",
          "week": "2018-06-04T00:00:00"
         },
         {
          "number": null,
          "type of enrollment request": "draw",
          "week": "2018-06-11T00:00:00"
         },
         {
          "number": null,
          "type of enrollment request": "draw",
          "week": "2018-06-18T00:00:00"
         },
         {
          "number": null,
          "type of enrollment request": "draw",
          "week": "2018-06-25T00:00:00"
         },
         {
          "number": null,
          "type of enrollment request": "draw",
          "week": "2018-07-02T00:00:00"
         },
         {
          "number": 1,
          "type of enrollment request": "draw",
          "week": "2018-07-09T00:00:00"
         },
         {
          "number": null,
          "type of enrollment request": "draw",
          "week": "2018-07-16T00:00:00"
         },
         {
          "number": 1,
          "type of enrollment request": "draw",
          "week": "2018-07-23T00:00:00"
         },
         {
          "number": null,
          "type of enrollment request": "draw",
          "week": "2018-07-30T00:00:00"
         },
         {
          "number": null,
          "type of enrollment request": "draw",
          "week": "2018-08-06T00:00:00"
         },
         {
          "number": null,
          "type of enrollment request": "draw",
          "week": "2018-08-13T00:00:00"
         },
         {
          "number": null,
          "type of enrollment request": "draw",
          "week": "2018-08-20T00:00:00"
         },
         {
          "number": null,
          "type of enrollment request": "draw",
          "week": "2018-08-27T00:00:00"
         },
         {
          "number": null,
          "type of enrollment request": "draw",
          "week": "2018-09-03T00:00:00"
         },
         {
          "number": null,
          "type of enrollment request": "draw",
          "week": "2018-09-10T00:00:00"
         },
         {
          "number": null,
          "type of enrollment request": "draw",
          "week": "2018-09-17T00:00:00"
         },
         {
          "number": 30,
          "type of enrollment request": "draw",
          "week": "2017-09-25T00:00:00"
         },
         {
          "number": null,
          "type of enrollment request": "draw",
          "week": "2018-09-24T00:00:00"
         },
         {
          "number": 48,
          "type of enrollment request": "draw",
          "week": "2017-10-02T00:00:00"
         },
         {
          "number": 20,
          "type of enrollment request": "draw",
          "week": "2017-10-09T00:00:00"
         },
         {
          "number": 15,
          "type of enrollment request": "draw",
          "week": "2017-10-16T00:00:00"
         },
         {
          "number": 18,
          "type of enrollment request": "draw",
          "week": "2017-10-23T00:00:00"
         },
         {
          "number": 12,
          "type of enrollment request": "draw",
          "week": "2017-10-30T00:00:00"
         },
         {
          "number": 10,
          "type of enrollment request": "draw",
          "week": "2017-11-06T00:00:00"
         },
         {
          "number": 23,
          "type of enrollment request": "draw",
          "week": "2017-11-13T00:00:00"
         },
         {
          "number": 29,
          "type of enrollment request": "draw",
          "week": "2017-11-20T00:00:00"
         },
         {
          "number": 26,
          "type of enrollment request": "draw",
          "week": "2017-11-27T00:00:00"
         },
         {
          "number": 22,
          "type of enrollment request": "draw",
          "week": "2017-12-04T00:00:00"
         },
         {
          "number": 34,
          "type of enrollment request": "draw",
          "week": "2017-12-11T00:00:00"
         },
         {
          "number": 22,
          "type of enrollment request": "draw",
          "week": "2017-12-18T00:00:00"
         },
         {
          "number": 22,
          "type of enrollment request": "draw",
          "week": "2017-12-25T00:00:00"
         },
         {
          "number": 6,
          "type of enrollment request": "selective",
          "week": "2018-01-01T00:00:00"
         },
         {
          "number": 12,
          "type of enrollment request": "selective",
          "week": "2018-01-08T00:00:00"
         },
         {
          "number": 6,
          "type of enrollment request": "selective",
          "week": "2018-01-15T00:00:00"
         },
         {
          "number": 13,
          "type of enrollment request": "selective",
          "week": "2018-01-22T00:00:00"
         },
         {
          "number": 12,
          "type of enrollment request": "selective",
          "week": "2018-01-29T00:00:00"
         },
         {
          "number": 7,
          "type of enrollment request": "selective",
          "week": "2018-02-05T00:00:00"
         },
         {
          "number": 13,
          "type of enrollment request": "selective",
          "week": "2018-02-12T00:00:00"
         },
         {
          "number": 14,
          "type of enrollment request": "selective",
          "week": "2018-02-19T00:00:00"
         },
         {
          "number": 11,
          "type of enrollment request": "selective",
          "week": "2018-02-26T00:00:00"
         },
         {
          "number": 5,
          "type of enrollment request": "selective",
          "week": "2018-03-05T00:00:00"
         },
         {
          "number": 11,
          "type of enrollment request": "selective",
          "week": "2018-03-12T00:00:00"
         },
         {
          "number": 5,
          "type of enrollment request": "selective",
          "week": "2018-03-19T00:00:00"
         },
         {
          "number": 6,
          "type of enrollment request": "selective",
          "week": "2018-03-26T00:00:00"
         },
         {
          "number": 3,
          "type of enrollment request": "selective",
          "week": "2018-04-02T00:00:00"
         },
         {
          "number": 6,
          "type of enrollment request": "selective",
          "week": "2018-04-09T00:00:00"
         },
         {
          "number": 3,
          "type of enrollment request": "selective",
          "week": "2018-04-16T00:00:00"
         },
         {
          "number": 11,
          "type of enrollment request": "selective",
          "week": "2018-04-23T00:00:00"
         },
         {
          "number": 7,
          "type of enrollment request": "selective",
          "week": "2018-04-30T00:00:00"
         },
         {
          "number": null,
          "type of enrollment request": "selective",
          "week": "2018-05-07T00:00:00"
         },
         {
          "number": null,
          "type of enrollment request": "selective",
          "week": "2018-05-14T00:00:00"
         },
         {
          "number": 2,
          "type of enrollment request": "selective",
          "week": "2018-05-21T00:00:00"
         },
         {
          "number": 2,
          "type of enrollment request": "selective",
          "week": "2018-05-28T00:00:00"
         },
         {
          "number": 2,
          "type of enrollment request": "selective",
          "week": "2018-06-04T00:00:00"
         },
         {
          "number": null,
          "type of enrollment request": "selective",
          "week": "2018-06-11T00:00:00"
         },
         {
          "number": null,
          "type of enrollment request": "selective",
          "week": "2018-06-18T00:00:00"
         },
         {
          "number": null,
          "type of enrollment request": "selective",
          "week": "2018-06-25T00:00:00"
         },
         {
          "number": null,
          "type of enrollment request": "selective",
          "week": "2018-07-02T00:00:00"
         },
         {
          "number": null,
          "type of enrollment request": "selective",
          "week": "2018-07-09T00:00:00"
         },
         {
          "number": 1,
          "type of enrollment request": "selective",
          "week": "2018-07-16T00:00:00"
         },
         {
          "number": null,
          "type of enrollment request": "selective",
          "week": "2018-07-23T00:00:00"
         },
         {
          "number": null,
          "type of enrollment request": "selective",
          "week": "2018-07-30T00:00:00"
         },
         {
          "number": 1,
          "type of enrollment request": "selective",
          "week": "2018-08-06T00:00:00"
         },
         {
          "number": 1,
          "type of enrollment request": "selective",
          "week": "2018-08-13T00:00:00"
         },
         {
          "number": 1,
          "type of enrollment request": "selective",
          "week": "2018-08-20T00:00:00"
         },
         {
          "number": 1,
          "type of enrollment request": "selective",
          "week": "2018-08-27T00:00:00"
         },
         {
          "number": null,
          "type of enrollment request": "selective",
          "week": "2018-09-03T00:00:00"
         },
         {
          "number": null,
          "type of enrollment request": "selective",
          "week": "2018-09-10T00:00:00"
         },
         {
          "number": null,
          "type of enrollment request": "selective",
          "week": "2018-09-17T00:00:00"
         },
         {
          "number": 2,
          "type of enrollment request": "selective",
          "week": "2017-09-25T00:00:00"
         },
         {
          "number": 1,
          "type of enrollment request": "selective",
          "week": "2018-09-24T00:00:00"
         },
         {
          "number": 2,
          "type of enrollment request": "selective",
          "week": "2017-10-02T00:00:00"
         },
         {
          "number": null,
          "type of enrollment request": "selective",
          "week": "2017-10-09T00:00:00"
         },
         {
          "number": 2,
          "type of enrollment request": "selective",
          "week": "2017-10-16T00:00:00"
         },
         {
          "number": 1,
          "type of enrollment request": "selective",
          "week": "2017-10-23T00:00:00"
         },
         {
          "number": 3,
          "type of enrollment request": "selective",
          "week": "2017-10-30T00:00:00"
         },
         {
          "number": 3,
          "type of enrollment request": "selective",
          "week": "2017-11-06T00:00:00"
         },
         {
          "number": 3,
          "type of enrollment request": "selective",
          "week": "2017-11-13T00:00:00"
         },
         {
          "number": 1,
          "type of enrollment request": "selective",
          "week": "2017-11-20T00:00:00"
         },
         {
          "number": 6,
          "type of enrollment request": "selective",
          "week": "2017-11-27T00:00:00"
         },
         {
          "number": 5,
          "type of enrollment request": "selective",
          "week": "2017-12-04T00:00:00"
         },
         {
          "number": null,
          "type of enrollment request": "selective",
          "week": "2017-12-11T00:00:00"
         },
         {
          "number": 9,
          "type of enrollment request": "selective",
          "week": "2017-12-18T00:00:00"
         },
         {
          "number": 2,
          "type of enrollment request": "selective",
          "week": "2017-12-25T00:00:00"
         },
         {
          "number": null,
          "type of enrollment request": "premaster",
          "week": "2018-01-01T00:00:00"
         },
         {
          "number": 2,
          "type of enrollment request": "premaster",
          "week": "2018-01-08T00:00:00"
         },
         {
          "number": 2,
          "type of enrollment request": "premaster",
          "week": "2018-01-15T00:00:00"
         },
         {
          "number": 1,
          "type of enrollment request": "premaster",
          "week": "2018-01-22T00:00:00"
         },
         {
          "number": 1,
          "type of enrollment request": "premaster",
          "week": "2018-01-29T00:00:00"
         },
         {
          "number": 1,
          "type of enrollment request": "premaster",
          "week": "2018-02-05T00:00:00"
         },
         {
          "number": 4,
          "type of enrollment request": "premaster",
          "week": "2018-02-12T00:00:00"
         },
         {
          "number": 2,
          "type of enrollment request": "premaster",
          "week": "2018-02-19T00:00:00"
         },
         {
          "number": 2,
          "type of enrollment request": "premaster",
          "week": "2018-02-26T00:00:00"
         },
         {
          "number": 7,
          "type of enrollment request": "premaster",
          "week": "2018-03-05T00:00:00"
         },
         {
          "number": 3,
          "type of enrollment request": "premaster",
          "week": "2018-03-12T00:00:00"
         },
         {
          "number": 3,
          "type of enrollment request": "premaster",
          "week": "2018-03-19T00:00:00"
         },
         {
          "number": 9,
          "type of enrollment request": "premaster",
          "week": "2018-03-26T00:00:00"
         },
         {
          "number": 2,
          "type of enrollment request": "premaster",
          "week": "2018-04-02T00:00:00"
         },
         {
          "number": 3,
          "type of enrollment request": "premaster",
          "week": "2018-04-09T00:00:00"
         },
         {
          "number": 7,
          "type of enrollment request": "premaster",
          "week": "2018-04-16T00:00:00"
         },
         {
          "number": 10,
          "type of enrollment request": "premaster",
          "week": "2018-04-23T00:00:00"
         },
         {
          "number": 6,
          "type of enrollment request": "premaster",
          "week": "2018-04-30T00:00:00"
         },
         {
          "number": 2,
          "type of enrollment request": "premaster",
          "week": "2018-05-07T00:00:00"
         },
         {
          "number": 2,
          "type of enrollment request": "premaster",
          "week": "2018-05-14T00:00:00"
         },
         {
          "number": 6,
          "type of enrollment request": "premaster",
          "week": "2018-05-21T00:00:00"
         },
         {
          "number": 14,
          "type of enrollment request": "premaster",
          "week": "2018-05-28T00:00:00"
         },
         {
          "number": 5,
          "type of enrollment request": "premaster",
          "week": "2018-06-04T00:00:00"
         },
         {
          "number": 1,
          "type of enrollment request": "premaster",
          "week": "2018-06-11T00:00:00"
         },
         {
          "number": 8,
          "type of enrollment request": "premaster",
          "week": "2018-06-18T00:00:00"
         },
         {
          "number": 8,
          "type of enrollment request": "premaster",
          "week": "2018-06-25T00:00:00"
         },
         {
          "number": 3,
          "type of enrollment request": "premaster",
          "week": "2018-07-02T00:00:00"
         },
         {
          "number": 4,
          "type of enrollment request": "premaster",
          "week": "2018-07-09T00:00:00"
         },
         {
          "number": 1,
          "type of enrollment request": "premaster",
          "week": "2018-07-16T00:00:00"
         },
         {
          "number": 1,
          "type of enrollment request": "premaster",
          "week": "2018-07-23T00:00:00"
         },
         {
          "number": 2,
          "type of enrollment request": "premaster",
          "week": "2018-07-30T00:00:00"
         },
         {
          "number": 1,
          "type of enrollment request": "premaster",
          "week": "2018-08-06T00:00:00"
         },
         {
          "number": 1,
          "type of enrollment request": "premaster",
          "week": "2018-08-13T00:00:00"
         },
         {
          "number": null,
          "type of enrollment request": "premaster",
          "week": "2018-08-20T00:00:00"
         },
         {
          "number": null,
          "type of enrollment request": "premaster",
          "week": "2018-08-27T00:00:00"
         },
         {
          "number": 1,
          "type of enrollment request": "premaster",
          "week": "2018-09-03T00:00:00"
         },
         {
          "number": null,
          "type of enrollment request": "premaster",
          "week": "2018-09-10T00:00:00"
         },
         {
          "number": null,
          "type of enrollment request": "premaster",
          "week": "2018-09-17T00:00:00"
         },
         {
          "number": null,
          "type of enrollment request": "premaster",
          "week": "2017-09-25T00:00:00"
         },
         {
          "number": null,
          "type of enrollment request": "premaster",
          "week": "2018-09-24T00:00:00"
         },
         {
          "number": null,
          "type of enrollment request": "premaster",
          "week": "2017-10-02T00:00:00"
         },
         {
          "number": 1,
          "type of enrollment request": "premaster",
          "week": "2017-10-09T00:00:00"
         },
         {
          "number": null,
          "type of enrollment request": "premaster",
          "week": "2017-10-16T00:00:00"
         },
         {
          "number": 1,
          "type of enrollment request": "premaster",
          "week": "2017-10-23T00:00:00"
         },
         {
          "number": null,
          "type of enrollment request": "premaster",
          "week": "2017-10-30T00:00:00"
         },
         {
          "number": null,
          "type of enrollment request": "premaster",
          "week": "2017-11-06T00:00:00"
         },
         {
          "number": null,
          "type of enrollment request": "premaster",
          "week": "2017-11-13T00:00:00"
         },
         {
          "number": null,
          "type of enrollment request": "premaster",
          "week": "2017-11-20T00:00:00"
         },
         {
          "number": null,
          "type of enrollment request": "premaster",
          "week": "2017-11-27T00:00:00"
         },
         {
          "number": null,
          "type of enrollment request": "premaster",
          "week": "2017-12-04T00:00:00"
         },
         {
          "number": 1,
          "type of enrollment request": "premaster",
          "week": "2017-12-11T00:00:00"
         },
         {
          "number": null,
          "type of enrollment request": "premaster",
          "week": "2017-12-18T00:00:00"
         },
         {
          "number": 1,
          "type of enrollment request": "premaster",
          "week": "2017-12-25T00:00:00"
         },
         {
          "number": 60,
          "type of enrollment request": "master",
          "week": "2018-01-01T00:00:00"
         },
         {
          "number": 49,
          "type of enrollment request": "master",
          "week": "2018-01-08T00:00:00"
         },
         {
          "number": 65,
          "type of enrollment request": "master",
          "week": "2018-01-15T00:00:00"
         },
         {
          "number": 54,
          "type of enrollment request": "master",
          "week": "2018-01-22T00:00:00"
         },
         {
          "number": 64,
          "type of enrollment request": "master",
          "week": "2018-01-29T00:00:00"
         },
         {
          "number": 51,
          "type of enrollment request": "master",
          "week": "2018-02-05T00:00:00"
         },
         {
          "number": 57,
          "type of enrollment request": "master",
          "week": "2018-02-12T00:00:00"
         },
         {
          "number": 64,
          "type of enrollment request": "master",
          "week": "2018-02-19T00:00:00"
         },
         {
          "number": 90,
          "type of enrollment request": "master",
          "week": "2018-02-26T00:00:00"
         },
         {
          "number": 72,
          "type of enrollment request": "master",
          "week": "2018-03-05T00:00:00"
         },
         {
          "number": 108,
          "type of enrollment request": "master",
          "week": "2018-03-12T00:00:00"
         },
         {
          "number": 141,
          "type of enrollment request": "master",
          "week": "2018-03-19T00:00:00"
         },
         {
          "number": 194,
          "type of enrollment request": "master",
          "week": "2018-03-26T00:00:00"
         },
         {
          "number": 24,
          "type of enrollment request": "master",
          "week": "2018-04-02T00:00:00"
         },
         {
          "number": 47,
          "type of enrollment request": "master",
          "week": "2018-04-09T00:00:00"
         },
         {
          "number": 48,
          "type of enrollment request": "master",
          "week": "2018-04-16T00:00:00"
         },
         {
          "number": 76,
          "type of enrollment request": "master",
          "week": "2018-04-23T00:00:00"
         },
         {
          "number": 48,
          "type of enrollment request": "master",
          "week": "2018-04-30T00:00:00"
         },
         {
          "number": 37,
          "type of enrollment request": "master",
          "week": "2018-05-07T00:00:00"
         },
         {
          "number": 55,
          "type of enrollment request": "master",
          "week": "2018-05-14T00:00:00"
         },
         {
          "number": 76,
          "type of enrollment request": "master",
          "week": "2018-05-21T00:00:00"
         },
         {
          "number": 106,
          "type of enrollment request": "master",
          "week": "2018-05-28T00:00:00"
         },
         {
          "number": 10,
          "type of enrollment request": "master",
          "week": "2018-06-04T00:00:00"
         },
         {
          "number": 5,
          "type of enrollment request": "master",
          "week": "2018-06-11T00:00:00"
         },
         {
          "number": 8,
          "type of enrollment request": "master",
          "week": "2018-06-18T00:00:00"
         },
         {
          "number": 6,
          "type of enrollment request": "master",
          "week": "2018-06-25T00:00:00"
         },
         {
          "number": 2,
          "type of enrollment request": "master",
          "week": "2018-07-02T00:00:00"
         },
         {
          "number": 11,
          "type of enrollment request": "master",
          "week": "2018-07-09T00:00:00"
         },
         {
          "number": 5,
          "type of enrollment request": "master",
          "week": "2018-07-16T00:00:00"
         },
         {
          "number": 2,
          "type of enrollment request": "master",
          "week": "2018-07-23T00:00:00"
         },
         {
          "number": 2,
          "type of enrollment request": "master",
          "week": "2018-07-30T00:00:00"
         },
         {
          "number": 4,
          "type of enrollment request": "master",
          "week": "2018-08-06T00:00:00"
         },
         {
          "number": 3,
          "type of enrollment request": "master",
          "week": "2018-08-13T00:00:00"
         },
         {
          "number": null,
          "type of enrollment request": "master",
          "week": "2018-08-20T00:00:00"
         },
         {
          "number": 8,
          "type of enrollment request": "master",
          "week": "2018-08-27T00:00:00"
         },
         {
          "number": 1,
          "type of enrollment request": "master",
          "week": "2018-09-03T00:00:00"
         },
         {
          "number": 2,
          "type of enrollment request": "master",
          "week": "2018-09-10T00:00:00"
         },
         {
          "number": 5,
          "type of enrollment request": "master",
          "week": "2018-09-17T00:00:00"
         },
         {
          "number": 9,
          "type of enrollment request": "master",
          "week": "2017-09-25T00:00:00"
         },
         {
          "number": 1,
          "type of enrollment request": "master",
          "week": "2018-09-24T00:00:00"
         },
         {
          "number": 38,
          "type of enrollment request": "master",
          "week": "2017-10-02T00:00:00"
         },
         {
          "number": 40,
          "type of enrollment request": "master",
          "week": "2017-10-09T00:00:00"
         },
         {
          "number": 28,
          "type of enrollment request": "master",
          "week": "2017-10-16T00:00:00"
         },
         {
          "number": 30,
          "type of enrollment request": "master",
          "week": "2017-10-23T00:00:00"
         },
         {
          "number": 24,
          "type of enrollment request": "master",
          "week": "2017-10-30T00:00:00"
         },
         {
          "number": 40,
          "type of enrollment request": "master",
          "week": "2017-11-06T00:00:00"
         },
         {
          "number": 33,
          "type of enrollment request": "master",
          "week": "2017-11-13T00:00:00"
         },
         {
          "number": 32,
          "type of enrollment request": "master",
          "week": "2017-11-20T00:00:00"
         },
         {
          "number": 41,
          "type of enrollment request": "master",
          "week": "2017-11-27T00:00:00"
         },
         {
          "number": 41,
          "type of enrollment request": "master",
          "week": "2017-12-04T00:00:00"
         },
         {
          "number": 29,
          "type of enrollment request": "master",
          "week": "2017-12-11T00:00:00"
         },
         {
          "number": 29,
          "type of enrollment request": "master",
          "week": "2017-12-18T00:00:00"
         },
         {
          "number": 23,
          "type of enrollment request": "master",
          "week": "2017-12-25T00:00:00"
         },
         {
          "number": 1,
          "type of enrollment request": "reenrollment",
          "week": "2018-01-01T00:00:00"
         },
         {
          "number": 1,
          "type of enrollment request": "reenrollment",
          "week": "2018-01-08T00:00:00"
         },
         {
          "number": 1,
          "type of enrollment request": "reenrollment",
          "week": "2018-01-15T00:00:00"
         },
         {
          "number": null,
          "type of enrollment request": "reenrollment",
          "week": "2018-01-22T00:00:00"
         },
         {
          "number": 1,
          "type of enrollment request": "reenrollment",
          "week": "2018-01-29T00:00:00"
         },
         {
          "number": 1,
          "type of enrollment request": "reenrollment",
          "week": "2018-02-05T00:00:00"
         },
         {
          "number": 3,
          "type of enrollment request": "reenrollment",
          "week": "2018-02-12T00:00:00"
         },
         {
          "number": null,
          "type of enrollment request": "reenrollment",
          "week": "2018-02-19T00:00:00"
         },
         {
          "number": null,
          "type of enrollment request": "reenrollment",
          "week": "2018-02-26T00:00:00"
         },
         {
          "number": null,
          "type of enrollment request": "reenrollment",
          "week": "2018-03-05T00:00:00"
         },
         {
          "number": 3,
          "type of enrollment request": "reenrollment",
          "week": "2018-03-12T00:00:00"
         },
         {
          "number": 3,
          "type of enrollment request": "reenrollment",
          "week": "2018-03-19T00:00:00"
         },
         {
          "number": 1,
          "type of enrollment request": "reenrollment",
          "week": "2018-03-26T00:00:00"
         },
         {
          "number": 4,
          "type of enrollment request": "reenrollment",
          "week": "2018-04-02T00:00:00"
         },
         {
          "number": 3,
          "type of enrollment request": "reenrollment",
          "week": "2018-04-09T00:00:00"
         },
         {
          "number": 4,
          "type of enrollment request": "reenrollment",
          "week": "2018-04-16T00:00:00"
         },
         {
          "number": 7,
          "type of enrollment request": "reenrollment",
          "week": "2018-04-23T00:00:00"
         },
         {
          "number": 5,
          "type of enrollment request": "reenrollment",
          "week": "2018-04-30T00:00:00"
         },
         {
          "number": 3,
          "type of enrollment request": "reenrollment",
          "week": "2018-05-07T00:00:00"
         },
         {
          "number": 2,
          "type of enrollment request": "reenrollment",
          "week": "2018-05-14T00:00:00"
         },
         {
          "number": 1,
          "type of enrollment request": "reenrollment",
          "week": "2018-05-21T00:00:00"
         },
         {
          "number": 39,
          "type of enrollment request": "reenrollment",
          "week": "2018-05-28T00:00:00"
         },
         {
          "number": 841,
          "type of enrollment request": "reenrollment",
          "week": "2018-06-04T00:00:00"
         },
         {
          "number": 213,
          "type of enrollment request": "reenrollment",
          "week": "2018-06-11T00:00:00"
         },
         {
          "number": 197,
          "type of enrollment request": "reenrollment",
          "week": "2018-06-18T00:00:00"
         },
         {
          "number": 118,
          "type of enrollment request": "reenrollment",
          "week": "2018-06-25T00:00:00"
         },
         {
          "number": 210,
          "type of enrollment request": "reenrollment",
          "week": "2018-07-02T00:00:00"
         },
         {
          "number": 124,
          "type of enrollment request": "reenrollment",
          "week": "2018-07-09T00:00:00"
         },
         {
          "number": 114,
          "type of enrollment request": "reenrollment",
          "week": "2018-07-16T00:00:00"
         },
         {
          "number": 115,
          "type of enrollment request": "reenrollment",
          "week": "2018-07-23T00:00:00"
         },
         {
          "number": 156,
          "type of enrollment request": "reenrollment",
          "week": "2018-07-30T00:00:00"
         },
         {
          "number": 112,
          "type of enrollment request": "reenrollment",
          "week": "2018-08-06T00:00:00"
         },
         {
          "number": 130,
          "type of enrollment request": "reenrollment",
          "week": "2018-08-13T00:00:00"
         },
         {
          "number": 128,
          "type of enrollment request": "reenrollment",
          "week": "2018-08-20T00:00:00"
         },
         {
          "number": 171,
          "type of enrollment request": "reenrollment",
          "week": "2018-08-27T00:00:00"
         },
         {
          "number": 5,
          "type of enrollment request": "reenrollment",
          "week": "2018-09-03T00:00:00"
         },
         {
          "number": 1,
          "type of enrollment request": "reenrollment",
          "week": "2018-09-10T00:00:00"
         },
         {
          "number": 4,
          "type of enrollment request": "reenrollment",
          "week": "2018-09-17T00:00:00"
         },
         {
          "number": null,
          "type of enrollment request": "reenrollment",
          "week": "2017-09-25T00:00:00"
         },
         {
          "number": 2,
          "type of enrollment request": "reenrollment",
          "week": "2018-09-24T00:00:00"
         },
         {
          "number": null,
          "type of enrollment request": "reenrollment",
          "week": "2017-10-02T00:00:00"
         },
         {
          "number": null,
          "type of enrollment request": "reenrollment",
          "week": "2017-10-09T00:00:00"
         },
         {
          "number": null,
          "type of enrollment request": "reenrollment",
          "week": "2017-10-16T00:00:00"
         },
         {
          "number": null,
          "type of enrollment request": "reenrollment",
          "week": "2017-10-23T00:00:00"
         },
         {
          "number": null,
          "type of enrollment request": "reenrollment",
          "week": "2017-10-30T00:00:00"
         },
         {
          "number": null,
          "type of enrollment request": "reenrollment",
          "week": "2017-11-06T00:00:00"
         },
         {
          "number": null,
          "type of enrollment request": "reenrollment",
          "week": "2017-11-13T00:00:00"
         },
         {
          "number": null,
          "type of enrollment request": "reenrollment",
          "week": "2017-11-20T00:00:00"
         },
         {
          "number": null,
          "type of enrollment request": "reenrollment",
          "week": "2017-11-27T00:00:00"
         },
         {
          "number": null,
          "type of enrollment request": "reenrollment",
          "week": "2017-12-04T00:00:00"
         },
         {
          "number": null,
          "type of enrollment request": "reenrollment",
          "week": "2017-12-11T00:00:00"
         },
         {
          "number": null,
          "type of enrollment request": "reenrollment",
          "week": "2017-12-18T00:00:00"
         },
         {
          "number": null,
          "type of enrollment request": "reenrollment",
          "week": "2017-12-25T00:00:00"
         }
        ]
       },
       "hconcat": [
        {
         "vconcat": [
          {
           "data": {
            "name": "data-511d759ab23966d8b9e995f6299fc8a4"
           },
           "encoding": {
            "color": {
             "field": "type of enrollment request",
             "legend": null,
             "type": "nominal"
            },
            "order": {
             "field": "type of enrollment request",
             "sort": "descending",
             "type": "nominal"
            },
            "x": {
             "axis": {
              "format": "week: %U, %Y",
              "title": null,
              "values": [
               {
                "date": 1,
                "month": 10,
                "year": 2017
               },
               {
                "date": 8,
                "month": 10,
                "year": 2017
               },
               {
                "date": 15,
                "month": 10,
                "year": 2017
               },
               {
                "date": 22,
                "month": 10,
                "year": 2017
               },
               {
                "date": 29,
                "month": 10,
                "year": 2017
               },
               {
                "date": 5,
                "month": 11,
                "year": 2017
               },
               {
                "date": 12,
                "month": 11,
                "year": 2017
               },
               {
                "date": 19,
                "month": 11,
                "year": 2017
               },
               {
                "date": 26,
                "month": 11,
                "year": 2017
               },
               {
                "date": 3,
                "month": 12,
                "year": 2017
               },
               {
                "date": 10,
                "month": 12,
                "year": 2017
               },
               {
                "date": 17,
                "month": 12,
                "year": 2017
               },
               {
                "date": 24,
                "month": 12,
                "year": 2017
               },
               {
                "date": 31,
                "month": 12,
                "year": 2017
               },
               {
                "date": 7,
                "month": 1,
                "year": 2018
               },
               {
                "date": 14,
                "month": 1,
                "year": 2018
               },
               {
                "date": 21,
                "month": 1,
                "year": 2018
               },
               {
                "date": 28,
                "month": 1,
                "year": 2018
               },
               {
                "date": 4,
                "month": 2,
                "year": 2018
               },
               {
                "date": 11,
                "month": 2,
                "year": 2018
               },
               {
                "date": 18,
                "month": 2,
                "year": 2018
               },
               {
                "date": 25,
                "month": 2,
                "year": 2018
               },
               {
                "date": 4,
                "month": 3,
                "year": 2018
               },
               {
                "date": 11,
                "month": 3,
                "year": 2018
               },
               {
                "date": 18,
                "month": 3,
                "year": 2018
               },
               {
                "date": 25,
                "month": 3,
                "year": 2018
               },
               {
                "date": 1,
                "month": 4,
                "year": 2018
               },
               {
                "date": 8,
                "month": 4,
                "year": 2018
               },
               {
                "date": 15,
                "month": 4,
                "year": 2018
               },
               {
                "date": 22,
                "month": 4,
                "year": 2018
               },
               {
                "date": 29,
                "month": 4,
                "year": 2018
               },
               {
                "date": 6,
                "month": 5,
                "year": 2018
               },
               {
                "date": 13,
                "month": 5,
                "year": 2018
               },
               {
                "date": 20,
                "month": 5,
                "year": 2018
               },
               {
                "date": 27,
                "month": 5,
                "year": 2018
               },
               {
                "date": 3,
                "month": 6,
                "year": 2018
               },
               {
                "date": 10,
                "month": 6,
                "year": 2018
               },
               {
                "date": 17,
                "month": 6,
                "year": 2018
               },
               {
                "date": 24,
                "month": 6,
                "year": 2018
               },
               {
                "date": 1,
                "month": 7,
                "year": 2018
               },
               {
                "date": 8,
                "month": 7,
                "year": 2018
               },
               {
                "date": 15,
                "month": 7,
                "year": 2018
               },
               {
                "date": 22,
                "month": 7,
                "year": 2018
               },
               {
                "date": 29,
                "month": 7,
                "year": 2018
               },
               {
                "date": 5,
                "month": 8,
                "year": 2018
               },
               {
                "date": 12,
                "month": 8,
                "year": 2018
               },
               {
                "date": 19,
                "month": 8,
                "year": 2018
               },
               {
                "date": 26,
                "month": 8,
                "year": 2018
               },
               {
                "date": 2,
                "month": 9,
                "year": 2018
               },
               {
                "date": 9,
                "month": 9,
                "year": 2018
               },
               {
                "date": 16,
                "month": 9,
                "year": 2018
               },
               {
                "date": 23,
                "month": 9,
                "year": 2018
               }
              ]
             },
             "field": "week",
             "scale": {
              "domain": {
               "selection": "selector002"
              },
              "nice": false
             },
             "type": "temporal"
            },
            "y": {
             "field": "number",
             "stack": "zero",
             "type": "quantitative"
            }
           },
           "mark": {
            "clip": true,
            "type": "bar"
           },
           "transform": [
            {
             "filter": {
              "selection": "selector001"
             }
            }
           ],
           "width": 600
          },
          {
           "data": {
            "name": "data-511d759ab23966d8b9e995f6299fc8a4"
           },
           "encoding": {
            "color": {
             "field": "type of enrollment request",
             "legend": null,
             "type": "nominal"
            },
            "order": {
             "field": "type of enrollment request",
             "sort": "descending",
             "type": "nominal"
            },
            "x": {
             "axis": {
              "format": "week: %U, %Y"
             },
             "field": "week",
             "scale": {
              "nice": false
             },
             "type": "temporal"
            },
            "y": {
             "axis": {
              "title": null
             },
             "field": "number",
             "type": "quantitative"
            }
           },
           "height": 60,
           "mark": {
            "clip": true,
            "type": "bar"
           },
           "selection": {
            "selector002": {
             "encodings": [
              "x"
             ],
             "mark": {
              "fill": "#333",
              "fillOpacity": 0.125,
              "stroke": "white"
             },
             "on": "[mousedown, window:mouseup] > window:mousemove!",
             "resolve": "global",
             "translate": "[mousedown, window:mouseup] > window:mousemove!",
             "type": "interval",
             "zoom": "wheel!"
            }
           },
           "transform": [
            {
             "filter": {
              "selection": "selector001"
             }
            }
           ],
           "width": 600
          }
         ]
        },
        {
         "data": {
          "name": "data-511d759ab23966d8b9e995f6299fc8a4"
         },
         "encoding": {
          "color": {
           "condition": {
            "field": "type of enrollment request",
            "legend": null,
            "selection": "selector001",
            "type": "nominal"
           },
           "value": "lightgray"
          },
          "size": {
           "condition": {
            "selection": "selector001",
            "value": 200
           },
           "value": 100
          },
          "y": {
           "axis": {
            "domain": false,
            "labelPadding": 5,
            "ticks": false,
            "title": "type of enrollment request"
           },
           "field": "type of enrollment request",
           "sort": [
            "matching",
            "draw",
            "selective",
            "premaster",
            "master",
            "reenrollment"
           ],
           "type": "nominal"
          }
         },
         "height": 180,
         "mark": {
          "cursor": "pointer",
          "type": "square"
         },
         "selection": {
          "selector001": {
           "empty": "all",
           "fields": [
            "type of enrollment request"
           ],
           "on": "click",
           "resolve": "global",
           "toggle": "event.shiftKey",
           "type": "multi"
          }
         },
         "width": 30
        }
       ]
      },
      "image/png": "[encoded data removed]",
      "text/plain": [
       "<VegaLite 2 object>\n",
       "\n",
       "If you see this message, it means the renderer has not been properly enabled\n",
       "for the frontend that you are using. For more information, see\n",
       "https://altair-viz.github.io/user_guide/troubleshooting.html\n"
      ]
     },
     "execution_count": 2,
     "metadata": {},
     "output_type": "execute_result"
    }
   ],
   "source": [
    "qry = \"\"\"ACADEMIC_YEAR == 2018\"\"\"\n",
    "df_rpw = tbl.aggregate_time(df.query(qry), 'REQUEST_DATE', grouper_cols='ENROLLMENT_TYPE', \n",
    "                            start=(2017, 10, 1), end=(2018, 10, 1), unit='W', use_dt=True)\n",
    "df_rpw.index.name = 'week'\n",
    "\n",
    "var_order = df.ENROLLMENT_TYPE.cat.categories.tolist()\n",
    "chrt.generate_chart(df_rpw, 'number', 'type of enrollment request', \n",
    "                    var_order=var_order, mark='bar', zoom=True, stack='zero', unit='W')"
   ]
  },
  {
   "cell_type": "markdown",
   "metadata": {},
   "source": [
    "### Creating a crosstable of (re)enrollments per department for all academic years\n",
    "Let's find out how many (re)enrollments the departments have for the 2016 to 2018 academic years. We glean this information by creating a crosstable and outputting it as a `FancyTable`. We first select only the active records with the **pandas** `query` method. Then we use the **laserbeans** `crosstab_f` function to create a crosstab that contains a totals row and *both* absolute and relative values. We will render the table with the `display` method from the `FancyTable` class."
   ]
  },
  {
   "cell_type": "code",
   "execution_count": 3,
   "metadata": {},
   "outputs": [
    {
     "data": {
      "text/html": [
       "<style>\n",
       "    @import url('https://fonts.googleapis.com/css?family=Roboto+Mono:400,500');\n",
       "    table.laserbeans {\n",
       "        display: table;\n",
       "        border-left: 1px solid rgb(171, 178, 185);\n",
       "        border-right: 1px solid rgb(171, 178, 185);\n",
       "        border-bottom: 2px solid rgb(23, 32, 42);\n",
       "    }\n",
       "    .laserbeans thead,\n",
       "    .laserbeans tbody {\n",
       "        display: table-header-group;\n",
       "    }\n",
       "    .laserbeans tr {\n",
       "        display: table-row;\n",
       "    }\n",
       "    .laserbeans th.col_idx_name,\n",
       "    .laserbeans th.col_name,\n",
       "    .laserbeans td.row_idx_name,\n",
       "    .laserbeans td.row_idx_post,\n",
       "    .laserbeans th.row_name,\n",
       "    .laserbeans td.tbl_cell {\n",
       "        display: table-cell;\n",
       "        padding: 0.75em;\n",
       "        font-family: 'Roboto Mono', monospace;\n",
       "        font-weight: 500;\n",
       "        font-size: 1.0em;\n",
       "    }\n",
       "    .laserbeans th.col_idx_pre,\n",
       "    .laserbeans th.col_idx_name,\n",
       "    .laserbeans tr th.col_name {\n",
       "        background: rgb(23, 32, 42);\n",
       "        color: white;\n",
       "    }\n",
       "    .laserbeans td.row_idx_name,\n",
       "    .laserbeans td.row_idx_post {\n",
       "        background: rgb(39, 55, 70);\n",
       "        color: white;\n",
       "    }\n",
       "    .laserbeans th.col_idx_name,\n",
       "    .laserbeans td.row_idx_name,\n",
       "    .laserbeans th.row_name {\n",
       "        text-align: left;\n",
       "    }\n",
       "    .laserbeans th.col_name {\n",
       "        text-align: center;\n",
       "    }\n",
       "    .laserbeans th.col_idx_name,\n",
       "    .laserbeans td.row_idx_name,\n",
       "    .laserbeans th.row_name,\n",
       "    .laserbeans th.col_edge,\n",
       "    .laserbeans td.col_edge {\n",
       "        border-right: 1px solid rgb(171, 178, 185);\n",
       "    }\n",
       "    .laserbeans td.tbl_cell {\n",
       "        text-align: right;\n",
       "        font-weight: 400;\n",
       "    }\n",
       "    .laserbeans tr.tbl_row:nth-child(even),\n",
       "    .laserbeans tr.tbl_row:nth-child(odd) {\n",
       "        background: unset;\n",
       "    }\n",
       "    .laserbeans tr.tbl_row {\n",
       "        border-bottom: 1px solid rgb(171, 178, 185);\n",
       "    }\n",
       "    .laserbeans tr.tbl_row:hover {\n",
       "        background: rgb(242, 244, 244);\n",
       "    }\n",
       "</style>\n",
       "<table class=\"laserbeans\">\n",
       "    <thead>\n",
       "        <tr class=\"tbl_row\">\n",
       "            <th class=\"col_idx_name\">ACADEMIC_YEAR</th>\n",
       "            <th class=\"col_name col_edge\" colspan=\"4\">2016</th>\n",
       "            <th class=\"col_name col_edge\" colspan=\"4\">2017</th>\n",
       "            <th class=\"col_name col_edge\" colspan=\"4\">2018</th>\n",
       "        </tr>\n",
       "        <tr class=\"tbl_row\">\n",
       "            <th class=\"col_idx_name\">REENROLLMENT</th>\n",
       "            <th class=\"col_name col_edge\" colspan=\"2\">yes</th>\n",
       "            <th class=\"col_name col_edge\" colspan=\"2\">no</th>\n",
       "            <th class=\"col_name col_edge\" colspan=\"2\">yes</th>\n",
       "            <th class=\"col_name col_edge\" colspan=\"2\">no</th>\n",
       "            <th class=\"col_name col_edge\" colspan=\"2\">yes</th>\n",
       "            <th class=\"col_name col_edge\" colspan=\"2\">no</th>\n",
       "        </tr>\n",
       "        <tr class=\"tbl_row\">\n",
       "            <th class=\"col_idx_name\"></th>\n",
       "            <th class=\"col_name\" colspan=\"1\">abs</th>\n",
       "            <th class=\"col_name col_edge\" colspan=\"1\">%</th>\n",
       "            <th class=\"col_name\" colspan=\"1\">abs</th>\n",
       "            <th class=\"col_name col_edge\" colspan=\"1\">%</th>\n",
       "            <th class=\"col_name\" colspan=\"1\">abs</th>\n",
       "            <th class=\"col_name col_edge\" colspan=\"1\">%</th>\n",
       "            <th class=\"col_name\" colspan=\"1\">abs</th>\n",
       "            <th class=\"col_name col_edge\" colspan=\"1\">%</th>\n",
       "            <th class=\"col_name\" colspan=\"1\">abs</th>\n",
       "            <th class=\"col_name col_edge\" colspan=\"1\">%</th>\n",
       "            <th class=\"col_name\" colspan=\"1\">abs</th>\n",
       "            <th class=\"col_name col_edge\" colspan=\"1\">%</th>\n",
       "        </tr>\n",
       "        <tr class=\"tbl_row\">\n",
       "            <td class=\"row_idx_name\">DEPARTMENT</td>\n",
       "            <td class=\"row_idx_post\"></td>\n",
       "            <td class=\"row_idx_post col_edge\"></td>\n",
       "            <td class=\"row_idx_post\"></td>\n",
       "            <td class=\"row_idx_post col_edge\"></td>\n",
       "            <td class=\"row_idx_post\"></td>\n",
       "            <td class=\"row_idx_post col_edge\"></td>\n",
       "            <td class=\"row_idx_post\"></td>\n",
       "            <td class=\"row_idx_post col_edge\"></td>\n",
       "            <td class=\"row_idx_post\"></td>\n",
       "            <td class=\"row_idx_post col_edge\"></td>\n",
       "            <td class=\"row_idx_post\"></td>\n",
       "            <td class=\"row_idx_post col_edge\"></td>\n",
       "        </tr>\n",
       "    </thead>\n",
       "    <tbody>\n",
       "        <tr class=\"tbl_row\">\n",
       "            <th class=\"row_name\">Geosciences</th>\n",
       "            <td id=\"cell-1-1\" class=\"tbl_cell\">249</td>\n",
       "            <td id=\"cell-1-2\" class=\"tbl_cell col_edge\">10.1</td>\n",
       "            <td id=\"cell-1-3\" class=\"tbl_cell\">140</td>\n",
       "            <td id=\"cell-1-4\" class=\"tbl_cell col_edge\">10.0</td>\n",
       "            <td id=\"cell-1-5\" class=\"tbl_cell\">272</td>\n",
       "            <td id=\"cell-1-6\" class=\"tbl_cell col_edge\">10.8</td>\n",
       "            <td id=\"cell-1-7\" class=\"tbl_cell\">156</td>\n",
       "            <td id=\"cell-1-8\" class=\"tbl_cell col_edge\">11.1</td>\n",
       "            <td id=\"cell-1-9\" class=\"tbl_cell\">301</td>\n",
       "            <td id=\"cell-1-10\" class=\"tbl_cell col_edge\">11.3</td>\n",
       "            <td id=\"cell-1-11\" class=\"tbl_cell\">167</td>\n",
       "            <td id=\"cell-1-12\" class=\"tbl_cell col_edge\">10.6</td>\n",
       "        </tr>\n",
       "        <tr class=\"tbl_row\">\n",
       "            <th class=\"row_name\">Humanities</th>\n",
       "            <td id=\"cell-2-1\" class=\"tbl_cell\">445</td>\n",
       "            <td id=\"cell-2-2\" class=\"tbl_cell col_edge\">18.0</td>\n",
       "            <td id=\"cell-2-3\" class=\"tbl_cell\">248</td>\n",
       "            <td id=\"cell-2-4\" class=\"tbl_cell col_edge\">17.7</td>\n",
       "            <td id=\"cell-2-5\" class=\"tbl_cell\">434</td>\n",
       "            <td id=\"cell-2-6\" class=\"tbl_cell col_edge\">17.2</td>\n",
       "            <td id=\"cell-2-7\" class=\"tbl_cell\">292</td>\n",
       "            <td id=\"cell-2-8\" class=\"tbl_cell col_edge\">20.8</td>\n",
       "            <td id=\"cell-2-9\" class=\"tbl_cell\">477</td>\n",
       "            <td id=\"cell-2-10\" class=\"tbl_cell col_edge\">17.9</td>\n",
       "            <td id=\"cell-2-11\" class=\"tbl_cell\">295</td>\n",
       "            <td id=\"cell-2-12\" class=\"tbl_cell col_edge\">18.7</td>\n",
       "        </tr>\n",
       "        <tr class=\"tbl_row\">\n",
       "            <th class=\"row_name\">Law and Economics</th>\n",
       "            <td id=\"cell-3-1\" class=\"tbl_cell\">438</td>\n",
       "            <td id=\"cell-3-2\" class=\"tbl_cell col_edge\">17.7</td>\n",
       "            <td id=\"cell-3-3\" class=\"tbl_cell\">292</td>\n",
       "            <td id=\"cell-3-4\" class=\"tbl_cell col_edge\">20.8</td>\n",
       "            <td id=\"cell-3-5\" class=\"tbl_cell\">433</td>\n",
       "            <td id=\"cell-3-6\" class=\"tbl_cell col_edge\">17.2</td>\n",
       "            <td id=\"cell-3-7\" class=\"tbl_cell\">263</td>\n",
       "            <td id=\"cell-3-8\" class=\"tbl_cell col_edge\">18.7</td>\n",
       "            <td id=\"cell-3-9\" class=\"tbl_cell\">462</td>\n",
       "            <td id=\"cell-3-10\" class=\"tbl_cell col_edge\">17.4</td>\n",
       "            <td id=\"cell-3-11\" class=\"tbl_cell\">297</td>\n",
       "            <td id=\"cell-3-12\" class=\"tbl_cell col_edge\">18.8</td>\n",
       "        </tr>\n",
       "        <tr class=\"tbl_row\">\n",
       "            <th class=\"row_name\">Life Sciences</th>\n",
       "            <td id=\"cell-4-1\" class=\"tbl_cell\">422</td>\n",
       "            <td id=\"cell-4-2\" class=\"tbl_cell col_edge\">17.1</td>\n",
       "            <td id=\"cell-4-3\" class=\"tbl_cell\">161</td>\n",
       "            <td id=\"cell-4-4\" class=\"tbl_cell col_edge\">11.5</td>\n",
       "            <td id=\"cell-4-5\" class=\"tbl_cell\">414</td>\n",
       "            <td id=\"cell-4-6\" class=\"tbl_cell col_edge\">16.4</td>\n",
       "            <td id=\"cell-4-7\" class=\"tbl_cell\">169</td>\n",
       "            <td id=\"cell-4-8\" class=\"tbl_cell col_edge\">12.0</td>\n",
       "            <td id=\"cell-4-9\" class=\"tbl_cell\">472</td>\n",
       "            <td id=\"cell-4-10\" class=\"tbl_cell col_edge\">17.7</td>\n",
       "            <td id=\"cell-4-11\" class=\"tbl_cell\">158</td>\n",
       "            <td id=\"cell-4-12\" class=\"tbl_cell col_edge\">10.0</td>\n",
       "        </tr>\n",
       "        <tr class=\"tbl_row\">\n",
       "            <th class=\"row_name\">Science</th>\n",
       "            <td id=\"cell-5-1\" class=\"tbl_cell\">528</td>\n",
       "            <td id=\"cell-5-2\" class=\"tbl_cell col_edge\">21.4</td>\n",
       "            <td id=\"cell-5-3\" class=\"tbl_cell\">259</td>\n",
       "            <td id=\"cell-5-4\" class=\"tbl_cell col_edge\">18.5</td>\n",
       "            <td id=\"cell-5-5\" class=\"tbl_cell\">571</td>\n",
       "            <td id=\"cell-5-6\" class=\"tbl_cell col_edge\">22.7</td>\n",
       "            <td id=\"cell-5-7\" class=\"tbl_cell\">222</td>\n",
       "            <td id=\"cell-5-8\" class=\"tbl_cell col_edge\">15.8</td>\n",
       "            <td id=\"cell-5-9\" class=\"tbl_cell\">559</td>\n",
       "            <td id=\"cell-5-10\" class=\"tbl_cell col_edge\">21.0</td>\n",
       "            <td id=\"cell-5-11\" class=\"tbl_cell\">296</td>\n",
       "            <td id=\"cell-5-12\" class=\"tbl_cell col_edge\">18.7</td>\n",
       "        </tr>\n",
       "        <tr class=\"tbl_row\">\n",
       "            <th class=\"row_name\">Social Sciences</th>\n",
       "            <td id=\"cell-6-1\" class=\"tbl_cell\">387</td>\n",
       "            <td id=\"cell-6-2\" class=\"tbl_cell col_edge\">15.7</td>\n",
       "            <td id=\"cell-6-3\" class=\"tbl_cell\">303</td>\n",
       "            <td id=\"cell-6-4\" class=\"tbl_cell col_edge\">21.6</td>\n",
       "            <td id=\"cell-6-5\" class=\"tbl_cell\">395</td>\n",
       "            <td id=\"cell-6-6\" class=\"tbl_cell col_edge\">15.7</td>\n",
       "            <td id=\"cell-6-7\" class=\"tbl_cell\">304</td>\n",
       "            <td id=\"cell-6-8\" class=\"tbl_cell col_edge\">21.6</td>\n",
       "            <td id=\"cell-6-9\" class=\"tbl_cell\">389</td>\n",
       "            <td id=\"cell-6-10\" class=\"tbl_cell col_edge\">14.6</td>\n",
       "            <td id=\"cell-6-11\" class=\"tbl_cell\">366</td>\n",
       "            <td id=\"cell-6-12\" class=\"tbl_cell col_edge\">23.2</td>\n",
       "        </tr>\n",
       "        <tr class=\"tbl_row\">\n",
       "            <th class=\"row_name\">Totals</th>\n",
       "            <td id=\"cell-7-1\" class=\"tbl_cell\">2469</td>\n",
       "            <td id=\"cell-7-2\" class=\"tbl_cell col_edge\">100.0</td>\n",
       "            <td id=\"cell-7-3\" class=\"tbl_cell\">1403</td>\n",
       "            <td id=\"cell-7-4\" class=\"tbl_cell col_edge\">100.0</td>\n",
       "            <td id=\"cell-7-5\" class=\"tbl_cell\">2519</td>\n",
       "            <td id=\"cell-7-6\" class=\"tbl_cell col_edge\">100.0</td>\n",
       "            <td id=\"cell-7-7\" class=\"tbl_cell\">1406</td>\n",
       "            <td id=\"cell-7-8\" class=\"tbl_cell col_edge\">100.0</td>\n",
       "            <td id=\"cell-7-9\" class=\"tbl_cell\">2660</td>\n",
       "            <td id=\"cell-7-10\" class=\"tbl_cell col_edge\">100.0</td>\n",
       "            <td id=\"cell-7-11\" class=\"tbl_cell\">1579</td>\n",
       "            <td id=\"cell-7-12\" class=\"tbl_cell col_edge\">100.0</td>\n",
       "        </tr>\n",
       "    </tbody>\n",
       "</table>\n"
      ],
      "text/plain": [
       "<IPython.core.display.HTML object>"
      ]
     },
     "metadata": {},
     "output_type": "display_data"
    }
   ],
   "source": [
    "qry = \"\"\"STATUS == 'active'\"\"\"\n",
    "\n",
    "df_ct = tbl.crosstab_f(df.query(qry), 'DEPARTMENT', ['ACADEMIC_YEAR', 'REENROLLMENT'], \n",
    "                       totals_col=False, perc_cols=True, perc_axis=1)\n",
    "\n",
    "tbl.FancyTable(df_ct).display()"
   ]
  },
  {
   "cell_type": "markdown",
   "metadata": {},
   "source": [
    "### Plotting cumulative enrollments over multiple academic years\n",
    "Let's compare the cumulative enrolments over multiple academic years. The **resamplers** module contains the helper function `compare_f_years`. This function resamples records for multiple administrative years for a defined period. We resample to days by setting the time unit to 'D'. Finally, we perform a cumulative sum on the resampled data and plot the resulting table."
   ]
  },
  {
   "cell_type": "code",
   "execution_count": 4,
   "metadata": {},
   "outputs": [
    {
     "data": {
      "application/vnd.vegalite.v2+json": {
       "$schema": "https://vega.github.io/schema/vega-lite/v2.6.0.json",
       "config": {
        "view": {
         "height": 300,
         "width": 400
        }
       },
       "datasets": {
        "data-eb6277fd9bc98671474ac1995a80c67a": [
         {
          "academic year": "2016",
          "day": 151,
          "number": null
         },
         {
          "academic year": "2016",
          "day": 152,
          "number": null
         },
         {
          "academic year": "2016",
          "day": 153,
          "number": 65
         },
         {
          "academic year": "2016",
          "day": 154,
          "number": 131
         },
         {
          "academic year": "2016",
          "day": 155,
          "number": 170
         },
         {
          "academic year": "2016",
          "day": 156,
          "number": 183
         },
         {
          "academic year": "2016",
          "day": 157,
          "number": 197
         },
         {
          "academic year": "2016",
          "day": 158,
          "number": 233
         },
         {
          "academic year": "2016",
          "day": 159,
          "number": 278
         },
         {
          "academic year": "2016",
          "day": 160,
          "number": 292
         },
         {
          "academic year": "2016",
          "day": 161,
          "number": 309
         },
         {
          "academic year": "2016",
          "day": 162,
          "number": 318
         },
         {
          "academic year": "2016",
          "day": 163,
          "number": 326
         },
         {
          "academic year": "2016",
          "day": 164,
          "number": 345
         },
         {
          "academic year": "2016",
          "day": 165,
          "number": 373
         },
         {
          "academic year": "2016",
          "day": 166,
          "number": 391
         },
         {
          "academic year": "2016",
          "day": 167,
          "number": 406
         },
         {
          "academic year": "2016",
          "day": 168,
          "number": 419
         },
         {
          "academic year": "2016",
          "day": 169,
          "number": 433
         },
         {
          "academic year": "2016",
          "day": 170,
          "number": 438
         },
         {
          "academic year": "2016",
          "day": 171,
          "number": 450
         },
         {
          "academic year": "2016",
          "day": 172,
          "number": 469
         },
         {
          "academic year": "2016",
          "day": 173,
          "number": 479
         },
         {
          "academic year": "2016",
          "day": 174,
          "number": 510
         },
         {
          "academic year": "2016",
          "day": 175,
          "number": 529
         },
         {
          "academic year": "2016",
          "day": 176,
          "number": 561
         },
         {
          "academic year": "2016",
          "day": 177,
          "number": 570
         },
         {
          "academic year": "2016",
          "day": 178,
          "number": 580
         },
         {
          "academic year": "2016",
          "day": 179,
          "number": 604
         },
         {
          "academic year": "2016",
          "day": 180,
          "number": 623
         },
         {
          "academic year": "2016",
          "day": 181,
          "number": 629
         },
         {
          "academic year": "2016",
          "day": 182,
          "number": 661
         },
         {
          "academic year": "2016",
          "day": 183,
          "number": 690
         },
         {
          "academic year": "2016",
          "day": 184,
          "number": 702
         },
         {
          "academic year": "2016",
          "day": 185,
          "number": 702
         },
         {
          "academic year": "2016",
          "day": 186,
          "number": 754
         },
         {
          "academic year": "2016",
          "day": 187,
          "number": 796
         },
         {
          "academic year": "2016",
          "day": 188,
          "number": 819
         },
         {
          "academic year": "2016",
          "day": 189,
          "number": 838
         },
         {
          "academic year": "2016",
          "day": 190,
          "number": 885
         },
         {
          "academic year": "2016",
          "day": 191,
          "number": 907
         },
         {
          "academic year": "2016",
          "day": 192,
          "number": 907
         },
         {
          "academic year": "2016",
          "day": 193,
          "number": 984
         },
         {
          "academic year": "2016",
          "day": 194,
          "number": 1004
         },
         {
          "academic year": "2016",
          "day": 195,
          "number": 1050
         },
         {
          "academic year": "2016",
          "day": 196,
          "number": 1098
         },
         {
          "academic year": "2016",
          "day": 197,
          "number": 1134
         },
         {
          "academic year": "2016",
          "day": 198,
          "number": 1145
         },
         {
          "academic year": "2016",
          "day": 199,
          "number": 1159
         },
         {
          "academic year": "2016",
          "day": 200,
          "number": 1240
         },
         {
          "academic year": "2016",
          "day": 201,
          "number": 1277
         },
         {
          "academic year": "2016",
          "day": 202,
          "number": 1407
         },
         {
          "academic year": "2016",
          "day": 203,
          "number": 1477
         },
         {
          "academic year": "2016",
          "day": 204,
          "number": 1542
         },
         {
          "academic year": "2016",
          "day": 205,
          "number": 1559
         },
         {
          "academic year": "2016",
          "day": 206,
          "number": 1576
         },
         {
          "academic year": "2016",
          "day": 207,
          "number": 1665
         },
         {
          "academic year": "2016",
          "day": 208,
          "number": 1792
         },
         {
          "academic year": "2016",
          "day": 209,
          "number": 1827
         },
         {
          "academic year": "2016",
          "day": 210,
          "number": 1873
         },
         {
          "academic year": "2016",
          "day": 211,
          "number": 1946
         },
         {
          "academic year": "2016",
          "day": 212,
          "number": 1962
         },
         {
          "academic year": "2016",
          "day": 213,
          "number": 1984
         },
         {
          "academic year": "2016",
          "day": 214,
          "number": 2029
         },
         {
          "academic year": "2016",
          "day": 215,
          "number": 2091
         },
         {
          "academic year": "2016",
          "day": 216,
          "number": 2166
         },
         {
          "academic year": "2016",
          "day": 217,
          "number": 2219
         },
         {
          "academic year": "2016",
          "day": 218,
          "number": 2257
         },
         {
          "academic year": "2016",
          "day": 219,
          "number": 2258
         },
         {
          "academic year": "2016",
          "day": 220,
          "number": 2258
         },
         {
          "academic year": "2016",
          "day": 221,
          "number": 2324
         },
         {
          "academic year": "2016",
          "day": 222,
          "number": 2388
         },
         {
          "academic year": "2016",
          "day": 223,
          "number": 2455
         },
         {
          "academic year": "2016",
          "day": 224,
          "number": 2495
         },
         {
          "academic year": "2016",
          "day": 225,
          "number": 2530
         },
         {
          "academic year": "2016",
          "day": 226,
          "number": 2544
         },
         {
          "academic year": "2016",
          "day": 227,
          "number": 2557
         },
         {
          "academic year": "2016",
          "day": 228,
          "number": 2596
         },
         {
          "academic year": "2016",
          "day": 229,
          "number": 2631
         },
         {
          "academic year": "2016",
          "day": 230,
          "number": 2691
         },
         {
          "academic year": "2016",
          "day": 231,
          "number": 2753
         },
         {
          "academic year": "2016",
          "day": 232,
          "number": 2804
         },
         {
          "academic year": "2016",
          "day": 233,
          "number": 2821
         },
         {
          "academic year": "2016",
          "day": 234,
          "number": 2841
         },
         {
          "academic year": "2016",
          "day": 235,
          "number": 2922
         },
         {
          "academic year": "2016",
          "day": 236,
          "number": 3018
         },
         {
          "academic year": "2016",
          "day": 237,
          "number": 3059
         },
         {
          "academic year": "2016",
          "day": 238,
          "number": 3128
         },
         {
          "academic year": "2016",
          "day": 239,
          "number": 3177
         },
         {
          "academic year": "2016",
          "day": 240,
          "number": 3199
         },
         {
          "academic year": "2016",
          "day": 241,
          "number": 3230
         },
         {
          "academic year": "2016",
          "day": 242,
          "number": 3310
         },
         {
          "academic year": "2016",
          "day": 243,
          "number": 3377
         },
         {
          "academic year": "2016",
          "day": 244,
          "number": 3483
         },
         {
          "academic year": "2016",
          "day": 245,
          "number": 3541
         },
         {
          "academic year": "2016",
          "day": 246,
          "number": 3581
         },
         {
          "academic year": "2016",
          "day": 247,
          "number": 3589
         },
         {
          "academic year": "2016",
          "day": 248,
          "number": 3600
         },
         {
          "academic year": "2016",
          "day": 249,
          "number": 3626
         },
         {
          "academic year": "2016",
          "day": 250,
          "number": 3662
         },
         {
          "academic year": "2016",
          "day": 251,
          "number": 3692
         },
         {
          "academic year": "2016",
          "day": 252,
          "number": 3703
         },
         {
          "academic year": "2016",
          "day": 253,
          "number": 3714
         },
         {
          "academic year": "2016",
          "day": 254,
          "number": 3715
         },
         {
          "academic year": "2016",
          "day": 255,
          "number": 3719
         },
         {
          "academic year": "2016",
          "day": 256,
          "number": 3735
         },
         {
          "academic year": "2016",
          "day": 257,
          "number": 3755
         },
         {
          "academic year": "2016",
          "day": 258,
          "number": 3776
         },
         {
          "academic year": "2016",
          "day": 259,
          "number": 3790
         },
         {
          "academic year": "2016",
          "day": 260,
          "number": 3796
         },
         {
          "academic year": "2016",
          "day": 261,
          "number": 3798
         },
         {
          "academic year": "2016",
          "day": 262,
          "number": 3801
         },
         {
          "academic year": "2016",
          "day": 263,
          "number": 3808
         },
         {
          "academic year": "2016",
          "day": 264,
          "number": 3820
         },
         {
          "academic year": "2016",
          "day": 265,
          "number": 3824
         },
         {
          "academic year": "2016",
          "day": 266,
          "number": 3830
         },
         {
          "academic year": "2016",
          "day": 267,
          "number": 3833
         },
         {
          "academic year": "2016",
          "day": 268,
          "number": 3834
         },
         {
          "academic year": "2016",
          "day": 269,
          "number": 3835
         },
         {
          "academic year": "2016",
          "day": 270,
          "number": 3836
         },
         {
          "academic year": "2016",
          "day": 271,
          "number": 3839
         },
         {
          "academic year": "2016",
          "day": 272,
          "number": 3846
         },
         {
          "academic year": "2016",
          "day": 273,
          "number": 3855
         },
         {
          "academic year": "2016",
          "day": 274,
          "number": 3866
         },
         {
          "academic year": "2016",
          "day": 275,
          "number": 3877
         },
         {
          "academic year": "2017",
          "day": 151,
          "number": null
         },
         {
          "academic year": "2017",
          "day": 152,
          "number": 25
         },
         {
          "academic year": "2017",
          "day": 153,
          "number": 62
         },
         {
          "academic year": "2017",
          "day": 154,
          "number": 87
         },
         {
          "academic year": "2017",
          "day": 155,
          "number": 108
         },
         {
          "academic year": "2017",
          "day": 156,
          "number": 123
         },
         {
          "academic year": "2017",
          "day": 157,
          "number": 144
         },
         {
          "academic year": "2017",
          "day": 158,
          "number": 169
         },
         {
          "academic year": "2017",
          "day": 159,
          "number": 183
         },
         {
          "academic year": "2017",
          "day": 160,
          "number": 202
         },
         {
          "academic year": "2017",
          "day": 161,
          "number": 202
         },
         {
          "academic year": "2017",
          "day": 162,
          "number": 202
         },
         {
          "academic year": "2017",
          "day": 163,
          "number": 204
         },
         {
          "academic year": "2017",
          "day": 164,
          "number": 204
         },
         {
          "academic year": "2017",
          "day": 165,
          "number": 204
         },
         {
          "academic year": "2017",
          "day": 166,
          "number": 248
         },
         {
          "academic year": "2017",
          "day": 167,
          "number": 251
         },
         {
          "academic year": "2017",
          "day": 168,
          "number": 251
         },
         {
          "academic year": "2017",
          "day": 169,
          "number": 251
         },
         {
          "academic year": "2017",
          "day": 170,
          "number": 342
         },
         {
          "academic year": "2017",
          "day": 171,
          "number": 364
         },
         {
          "academic year": "2017",
          "day": 172,
          "number": 376
         },
         {
          "academic year": "2017",
          "day": 173,
          "number": 414
         },
         {
          "academic year": "2017",
          "day": 174,
          "number": 436
         },
         {
          "academic year": "2017",
          "day": 175,
          "number": 446
         },
         {
          "academic year": "2017",
          "day": 176,
          "number": 460
         },
         {
          "academic year": "2017",
          "day": 177,
          "number": 507
         },
         {
          "academic year": "2017",
          "day": 178,
          "number": 542
         },
         {
          "academic year": "2017",
          "day": 179,
          "number": 566
         },
         {
          "academic year": "2017",
          "day": 180,
          "number": 584
         },
         {
          "academic year": "2017",
          "day": 181,
          "number": 601
         },
         {
          "academic year": "2017",
          "day": 182,
          "number": 604
         },
         {
          "academic year": "2017",
          "day": 183,
          "number": 614
         },
         {
          "academic year": "2017",
          "day": 184,
          "number": 668
         },
         {
          "academic year": "2017",
          "day": 185,
          "number": 695
         },
         {
          "academic year": "2017",
          "day": 186,
          "number": 722
         },
         {
          "academic year": "2017",
          "day": 187,
          "number": 740
         },
         {
          "academic year": "2017",
          "day": 188,
          "number": 810
         },
         {
          "academic year": "2017",
          "day": 189,
          "number": 835
         },
         {
          "academic year": "2017",
          "day": 190,
          "number": 859
         },
         {
          "academic year": "2017",
          "day": 191,
          "number": 973
         },
         {
          "academic year": "2017",
          "day": 192,
          "number": 1032
         },
         {
          "academic year": "2017",
          "day": 193,
          "number": 1076
         },
         {
          "academic year": "2017",
          "day": 194,
          "number": 1115
         },
         {
          "academic year": "2017",
          "day": 195,
          "number": 1168
         },
         {
          "academic year": "2017",
          "day": 196,
          "number": 1178
         },
         {
          "academic year": "2017",
          "day": 197,
          "number": 1193
         },
         {
          "academic year": "2017",
          "day": 198,
          "number": 1255
         },
         {
          "academic year": "2017",
          "day": 199,
          "number": 1308
         },
         {
          "academic year": "2017",
          "day": 200,
          "number": 1367
         },
         {
          "academic year": "2017",
          "day": 201,
          "number": 1482
         },
         {
          "academic year": "2017",
          "day": 202,
          "number": 1539
         },
         {
          "academic year": "2017",
          "day": 203,
          "number": 1559
         },
         {
          "academic year": "2017",
          "day": 204,
          "number": 1576
         },
         {
          "academic year": "2017",
          "day": 205,
          "number": 1675
         },
         {
          "academic year": "2017",
          "day": 206,
          "number": 1731
         },
         {
          "academic year": "2017",
          "day": 207,
          "number": 1856
         },
         {
          "academic year": "2017",
          "day": 208,
          "number": 1873
         },
         {
          "academic year": "2017",
          "day": 209,
          "number": 1940
         },
         {
          "academic year": "2017",
          "day": 210,
          "number": 1952
         },
         {
          "academic year": "2017",
          "day": 211,
          "number": 1968
         },
         {
          "academic year": "2017",
          "day": 212,
          "number": 2014
         },
         {
          "academic year": "2017",
          "day": 213,
          "number": 2058
         },
         {
          "academic year": "2017",
          "day": 214,
          "number": 2119
         },
         {
          "academic year": "2017",
          "day": 215,
          "number": 2185
         },
         {
          "academic year": "2017",
          "day": 216,
          "number": 2232
         },
         {
          "academic year": "2017",
          "day": 217,
          "number": 2248
         },
         {
          "academic year": "2017",
          "day": 218,
          "number": 2263
         },
         {
          "academic year": "2017",
          "day": 219,
          "number": 2319
         },
         {
          "academic year": "2017",
          "day": 220,
          "number": 2358
         },
         {
          "academic year": "2017",
          "day": 221,
          "number": 2405
         },
         {
          "academic year": "2017",
          "day": 222,
          "number": 2438
         },
         {
          "academic year": "2017",
          "day": 223,
          "number": 2472
         },
         {
          "academic year": "2017",
          "day": 224,
          "number": 2498
         },
         {
          "academic year": "2017",
          "day": 225,
          "number": 2519
         },
         {
          "academic year": "2017",
          "day": 226,
          "number": 2571
         },
         {
          "academic year": "2017",
          "day": 227,
          "number": 2608
         },
         {
          "academic year": "2017",
          "day": 228,
          "number": 2650
         },
         {
          "academic year": "2017",
          "day": 229,
          "number": 2689
         },
         {
          "academic year": "2017",
          "day": 230,
          "number": 2761
         },
         {
          "academic year": "2017",
          "day": 231,
          "number": 2790
         },
         {
          "academic year": "2017",
          "day": 232,
          "number": 2816
         },
         {
          "academic year": "2017",
          "day": 233,
          "number": 2892
         },
         {
          "academic year": "2017",
          "day": 234,
          "number": 2944
         },
         {
          "academic year": "2017",
          "day": 235,
          "number": 2995
         },
         {
          "academic year": "2017",
          "day": 236,
          "number": 3062
         },
         {
          "academic year": "2017",
          "day": 237,
          "number": 3097
         },
         {
          "academic year": "2017",
          "day": 238,
          "number": 3111
         },
         {
          "academic year": "2017",
          "day": 239,
          "number": 3132
         },
         {
          "academic year": "2017",
          "day": 240,
          "number": 3237
         },
         {
          "academic year": "2017",
          "day": 241,
          "number": 3289
         },
         {
          "academic year": "2017",
          "day": 242,
          "number": 3307
         },
         {
          "academic year": "2017",
          "day": 243,
          "number": 3577
         },
         {
          "academic year": "2017",
          "day": 244,
          "number": 3630
         },
         {
          "academic year": "2017",
          "day": 245,
          "number": 3639
         },
         {
          "academic year": "2017",
          "day": 246,
          "number": 3653
         },
         {
          "academic year": "2017",
          "day": 247,
          "number": 3684
         },
         {
          "academic year": "2017",
          "day": 248,
          "number": 3724
         },
         {
          "academic year": "2017",
          "day": 249,
          "number": 3737
         },
         {
          "academic year": "2017",
          "day": 250,
          "number": 3757
         },
         {
          "academic year": "2017",
          "day": 251,
          "number": 3773
         },
         {
          "academic year": "2017",
          "day": 252,
          "number": 3776
         },
         {
          "academic year": "2017",
          "day": 253,
          "number": 3780
         },
         {
          "academic year": "2017",
          "day": 254,
          "number": 3794
         },
         {
          "academic year": "2017",
          "day": 255,
          "number": 3802
         },
         {
          "academic year": "2017",
          "day": 256,
          "number": 3814
         },
         {
          "academic year": "2017",
          "day": 257,
          "number": 3826
         },
         {
          "academic year": "2017",
          "day": 258,
          "number": 3832
         },
         {
          "academic year": "2017",
          "day": 259,
          "number": 3833
         },
         {
          "academic year": "2017",
          "day": 260,
          "number": 3836
         },
         {
          "academic year": "2017",
          "day": 261,
          "number": 3843
         },
         {
          "academic year": "2017",
          "day": 262,
          "number": 3848
         },
         {
          "academic year": "2017",
          "day": 263,
          "number": 3854
         },
         {
          "academic year": "2017",
          "day": 264,
          "number": 3859
         },
         {
          "academic year": "2017",
          "day": 265,
          "number": 3868
         },
         {
          "academic year": "2017",
          "day": 266,
          "number": 3868
         },
         {
          "academic year": "2017",
          "day": 267,
          "number": 3869
         },
         {
          "academic year": "2017",
          "day": 268,
          "number": 3880
         },
         {
          "academic year": "2017",
          "day": 269,
          "number": 3884
         },
         {
          "academic year": "2017",
          "day": 270,
          "number": 3896
         },
         {
          "academic year": "2017",
          "day": 271,
          "number": 3908
         },
         {
          "academic year": "2017",
          "day": 272,
          "number": 3916
         },
         {
          "academic year": "2017",
          "day": 273,
          "number": 3920
         },
         {
          "academic year": "2017",
          "day": 274,
          "number": 3924
         },
         {
          "academic year": "2017",
          "day": 275,
          "number": 3928
         },
         {
          "academic year": "2018",
          "day": 151,
          "number": null
         },
         {
          "academic year": "2018",
          "day": 152,
          "number": 3
         },
         {
          "academic year": "2018",
          "day": 153,
          "number": 3
         },
         {
          "academic year": "2018",
          "day": 154,
          "number": 5
         },
         {
          "academic year": "2018",
          "day": 155,
          "number": 52
         },
         {
          "academic year": "2018",
          "day": 156,
          "number": 131
         },
         {
          "academic year": "2018",
          "day": 157,
          "number": 190
         },
         {
          "academic year": "2018",
          "day": 158,
          "number": 218
         },
         {
          "academic year": "2018",
          "day": 159,
          "number": 232
         },
         {
          "academic year": "2018",
          "day": 160,
          "number": 243
         },
         {
          "academic year": "2018",
          "day": 161,
          "number": 243
         },
         {
          "academic year": "2018",
          "day": 162,
          "number": 271
         },
         {
          "academic year": "2018",
          "day": 163,
          "number": 297
         },
         {
          "academic year": "2018",
          "day": 164,
          "number": 312
         },
         {
          "academic year": "2018",
          "day": 165,
          "number": 325
         },
         {
          "academic year": "2018",
          "day": 166,
          "number": 337
         },
         {
          "academic year": "2018",
          "day": 167,
          "number": 342
         },
         {
          "academic year": "2018",
          "day": 168,
          "number": 353
         },
         {
          "academic year": "2018",
          "day": 169,
          "number": 385
         },
         {
          "academic year": "2018",
          "day": 170,
          "number": 430
         },
         {
          "academic year": "2018",
          "day": 171,
          "number": 491
         },
         {
          "academic year": "2018",
          "day": 172,
          "number": 516
         },
         {
          "academic year": "2018",
          "day": 173,
          "number": 595
         },
         {
          "academic year": "2018",
          "day": 174,
          "number": 609
         },
         {
          "academic year": "2018",
          "day": 175,
          "number": 624
         },
         {
          "academic year": "2018",
          "day": 176,
          "number": 709
         },
         {
          "academic year": "2018",
          "day": 177,
          "number": 754
         },
         {
          "academic year": "2018",
          "day": 178,
          "number": 782
         },
         {
          "academic year": "2018",
          "day": 179,
          "number": 828
         },
         {
          "academic year": "2018",
          "day": 180,
          "number": 863
         },
         {
          "academic year": "2018",
          "day": 181,
          "number": 863
         },
         {
          "academic year": "2018",
          "day": 182,
          "number": 863
         },
         {
          "academic year": "2018",
          "day": 183,
          "number": 898
         },
         {
          "academic year": "2018",
          "day": 184,
          "number": 1000
         },
         {
          "academic year": "2018",
          "day": 185,
          "number": 1083
         },
         {
          "academic year": "2018",
          "day": 186,
          "number": 1141
         },
         {
          "academic year": "2018",
          "day": 187,
          "number": 1190
         },
         {
          "academic year": "2018",
          "day": 188,
          "number": 1201
         },
         {
          "academic year": "2018",
          "day": 189,
          "number": 1214
         },
         {
          "academic year": "2018",
          "day": 190,
          "number": 1258
         },
         {
          "academic year": "2018",
          "day": 191,
          "number": 1285
         },
         {
          "academic year": "2018",
          "day": 192,
          "number": 1332
         },
         {
          "academic year": "2018",
          "day": 193,
          "number": 1367
         },
         {
          "academic year": "2018",
          "day": 194,
          "number": 1390
         },
         {
          "academic year": "2018",
          "day": 195,
          "number": 1398
         },
         {
          "academic year": "2018",
          "day": 196,
          "number": 1412
         },
         {
          "academic year": "2018",
          "day": 197,
          "number": 1508
         },
         {
          "academic year": "2018",
          "day": 198,
          "number": 1541
         },
         {
          "academic year": "2018",
          "day": 199,
          "number": 1594
         },
         {
          "academic year": "2018",
          "day": 200,
          "number": 1638
         },
         {
          "academic year": "2018",
          "day": 201,
          "number": 1694
         },
         {
          "academic year": "2018",
          "day": 202,
          "number": 1703
         },
         {
          "academic year": "2018",
          "day": 203,
          "number": 1713
         },
         {
          "academic year": "2018",
          "day": 204,
          "number": 1768
         },
         {
          "academic year": "2018",
          "day": 205,
          "number": 1843
         },
         {
          "academic year": "2018",
          "day": 206,
          "number": 1895
         },
         {
          "academic year": "2018",
          "day": 207,
          "number": 1933
         },
         {
          "academic year": "2018",
          "day": 208,
          "number": 2033
         },
         {
          "academic year": "2018",
          "day": 209,
          "number": 2043
         },
         {
          "academic year": "2018",
          "day": 210,
          "number": 2067
         },
         {
          "academic year": "2018",
          "day": 211,
          "number": 2151
         },
         {
          "academic year": "2018",
          "day": 212,
          "number": 2207
         },
         {
          "academic year": "2018",
          "day": 213,
          "number": 2245
         },
         {
          "academic year": "2018",
          "day": 214,
          "number": 2301
         },
         {
          "academic year": "2018",
          "day": 215,
          "number": 2346
         },
         {
          "academic year": "2018",
          "day": 216,
          "number": 2366
         },
         {
          "academic year": "2018",
          "day": 217,
          "number": 2391
         },
         {
          "academic year": "2018",
          "day": 218,
          "number": 2438
         },
         {
          "academic year": "2018",
          "day": 219,
          "number": 2485
         },
         {
          "academic year": "2018",
          "day": 220,
          "number": 2533
         },
         {
          "academic year": "2018",
          "day": 221,
          "number": 2580
         },
         {
          "academic year": "2018",
          "day": 222,
          "number": 2628
         },
         {
          "academic year": "2018",
          "day": 223,
          "number": 2644
         },
         {
          "academic year": "2018",
          "day": 224,
          "number": 2670
         },
         {
          "academic year": "2018",
          "day": 225,
          "number": 2739
         },
         {
          "academic year": "2018",
          "day": 226,
          "number": 2783
         },
         {
          "academic year": "2018",
          "day": 227,
          "number": 2828
         },
         {
          "academic year": "2018",
          "day": 228,
          "number": 2887
         },
         {
          "academic year": "2018",
          "day": 229,
          "number": 2916
         },
         {
          "academic year": "2018",
          "day": 230,
          "number": 2933
         },
         {
          "academic year": "2018",
          "day": 231,
          "number": 2959
         },
         {
          "academic year": "2018",
          "day": 232,
          "number": 3037
         },
         {
          "academic year": "2018",
          "day": 233,
          "number": 3162
         },
         {
          "academic year": "2018",
          "day": 234,
          "number": 3226
         },
         {
          "academic year": "2018",
          "day": 235,
          "number": 3273
         },
         {
          "academic year": "2018",
          "day": 236,
          "number": 3348
         },
         {
          "academic year": "2018",
          "day": 237,
          "number": 3359
         },
         {
          "academic year": "2018",
          "day": 238,
          "number": 3384
         },
         {
          "academic year": "2018",
          "day": 239,
          "number": 3460
         },
         {
          "academic year": "2018",
          "day": 240,
          "number": 3527
         },
         {
          "academic year": "2018",
          "day": 241,
          "number": 3609
         },
         {
          "academic year": "2018",
          "day": 242,
          "number": 3695
         },
         {
          "academic year": "2018",
          "day": 243,
          "number": 3778
         },
         {
          "academic year": "2018",
          "day": 244,
          "number": 3786
         },
         {
          "academic year": "2018",
          "day": 245,
          "number": 3799
         },
         {
          "academic year": "2018",
          "day": 246,
          "number": 3858
         },
         {
          "academic year": "2018",
          "day": 247,
          "number": 3874
         },
         {
          "academic year": "2018",
          "day": 248,
          "number": 3924
         },
         {
          "academic year": "2018",
          "day": 249,
          "number": 3953
         },
         {
          "academic year": "2018",
          "day": 250,
          "number": 3972
         },
         {
          "academic year": "2018",
          "day": 251,
          "number": 3975
         },
         {
          "academic year": "2018",
          "day": 252,
          "number": 3985
         },
         {
          "academic year": "2018",
          "day": 253,
          "number": 4016
         },
         {
          "academic year": "2018",
          "day": 254,
          "number": 4027
         },
         {
          "academic year": "2018",
          "day": 255,
          "number": 4048
         },
         {
          "academic year": "2018",
          "day": 256,
          "number": 4058
         },
         {
          "academic year": "2018",
          "day": 257,
          "number": 4066
         },
         {
          "academic year": "2018",
          "day": 258,
          "number": 4068
         },
         {
          "academic year": "2018",
          "day": 259,
          "number": 4074
         },
         {
          "academic year": "2018",
          "day": 260,
          "number": 4087
         },
         {
          "academic year": "2018",
          "day": 261,
          "number": 4106
         },
         {
          "academic year": "2018",
          "day": 262,
          "number": 4116
         },
         {
          "academic year": "2018",
          "day": 263,
          "number": 4126
         },
         {
          "academic year": "2018",
          "day": 264,
          "number": 4132
         },
         {
          "academic year": "2018",
          "day": 265,
          "number": 4135
         },
         {
          "academic year": "2018",
          "day": 266,
          "number": 4140
         },
         {
          "academic year": "2018",
          "day": 267,
          "number": 4152
         },
         {
          "academic year": "2018",
          "day": 268,
          "number": 4174
         },
         {
          "academic year": "2018",
          "day": 269,
          "number": 4189
         },
         {
          "academic year": "2018",
          "day": 270,
          "number": 4203
         },
         {
          "academic year": "2018",
          "day": 271,
          "number": 4218
         },
         {
          "academic year": "2018",
          "day": 272,
          "number": 4224
         },
         {
          "academic year": "2018",
          "day": 273,
          "number": 4230
         },
         {
          "academic year": "2018",
          "day": 274,
          "number": 4234
         },
         {
          "academic year": "2018",
          "day": 275,
          "number": 4238
         }
        ]
       },
       "hconcat": [
        {
         "data": {
          "name": "data-eb6277fd9bc98671474ac1995a80c67a"
         },
         "encoding": {
          "color": {
           "field": "academic year",
           "legend": null,
           "type": "nominal"
          },
          "order": {
           "field": "academic year",
           "sort": "descending",
           "type": "nominal"
          },
          "x": {
           "axis": {
            "format": "d",
            "title": "day",
            "values": [
             151,
             152,
             153,
             154,
             155,
             156,
             157,
             158,
             159,
             160,
             161,
             162,
             163,
             164,
             165,
             166,
             167,
             168,
             169,
             170,
             171,
             172,
             173,
             174,
             175,
             176,
             177,
             178,
             179,
             180,
             181,
             182,
             183,
             184,
             185,
             186,
             187,
             188,
             189,
             190,
             191,
             192,
             193,
             194,
             195,
             196,
             197,
             198,
             199,
             200,
             201,
             202,
             203,
             204,
             205,
             206,
             207,
             208,
             209,
             210,
             211,
             212,
             213,
             214,
             215,
             216,
             217,
             218,
             219,
             220,
             221,
             222,
             223,
             224,
             225,
             226,
             227,
             228,
             229,
             230,
             231,
             232,
             233,
             234,
             235,
             236,
             237,
             238,
             239,
             240,
             241,
             242,
             243,
             244,
             245,
             246,
             247,
             248,
             249,
             250,
             251,
             252,
             253,
             254,
             255,
             256,
             257,
             258,
             259,
             260,
             261,
             262,
             263,
             264,
             265,
             266,
             267,
             268,
             269,
             270,
             271,
             272,
             273,
             274
            ]
           },
           "field": "day",
           "scale": {
            "domain": [
             151,
             275
            ],
            "nice": false
           },
           "type": "quantitative"
          },
          "y": {
           "field": "number",
           "stack": null,
           "type": "quantitative"
          }
         },
         "mark": {
          "clip": true,
          "type": "line"
         },
         "transform": [
          {
           "filter": {
            "selection": "selector003"
           }
          }
         ],
         "width": 600
        },
        {
         "data": {
          "name": "data-eb6277fd9bc98671474ac1995a80c67a"
         },
         "encoding": {
          "color": {
           "condition": {
            "field": "academic year",
            "legend": null,
            "selection": "selector003",
            "type": "nominal"
           },
           "value": "lightgray"
          },
          "size": {
           "condition": {
            "selection": "selector003",
            "value": 200
           },
           "value": 100
          },
          "y": {
           "axis": {
            "domain": false,
            "labelPadding": 5,
            "ticks": false,
            "title": "academic year"
           },
           "field": "academic year",
           "sort": [
            "2016",
            "2017",
            "2018"
           ],
           "type": "nominal"
          }
         },
         "height": 90,
         "mark": {
          "cursor": "pointer",
          "type": "square"
         },
         "selection": {
          "selector003": {
           "empty": "all",
           "fields": [
            "academic year"
           ],
           "on": "click",
           "resolve": "global",
           "toggle": "event.shiftKey",
           "type": "multi"
          }
         },
         "width": 30
        }
       ]
      },
      "image/png": "[encoded data removed]",
      "text/plain": [
       "<VegaLite 2 object>\n",
       "\n",
       "If you see this message, it means the renderer has not been properly enabled\n",
       "for the frontend that you are using. For more information, see\n",
       "https://altair-viz.github.io/user_guide/troubleshooting.html\n"
      ]
     },
     "execution_count": 4,
     "metadata": {},
     "output_type": "execute_result"
    }
   ],
   "source": [
    "df_enroll = smp.compare_f_years(df.query(qry), \n",
    "                                'STATUS_DATE', \n",
    "                                'ACADEMIC_YEAR', \n",
    "                                [2016, 2017, 2018], \n",
    "                                151, 276, unit='D',).cumsum()\n",
    "df_enroll.index.name = 'day'\n",
    "chrt.generate_chart(df_enroll, 'number', 'academic year', mark='line', unit='D')"
   ]
  },
  {
   "cell_type": "markdown",
   "metadata": {},
   "source": [
    "### Processing time in 2018 of first year enrollments by origin of the student\n",
    "Let's find out what the distribution of processing time is for first year enrollments by origin. First, we calculate the processing time by subtracting the *REQUEST_DATE* from the *STATUS_DATE* and casting it in number of days. Then we add a column to our DataFrame that bins this data using the `quick_bin` function from the **tables** module. With this new column we create another crosstab and plot it a bar chart. "
   ]
  },
  {
   "cell_type": "code",
   "execution_count": 5,
   "metadata": {},
   "outputs": [
    {
     "data": {
      "application/vnd.vegalite.v2+json": {
       "$schema": "https://vega.github.io/schema/vega-lite/v2.6.0.json",
       "config": {
        "view": {
         "height": 300,
         "width": 400
        }
       },
       "datasets": {
        "data-acc3b409a72d4b121c9b97c4341c037d": [
         {
          "bin": "[0.0-20.0)",
          "number": 23,
          "origin": "NLD"
         },
         {
          "bin": "[20.0-40.0)",
          "number": 34,
          "origin": "NLD"
         },
         {
          "bin": "[40.0-60.0)",
          "number": 61,
          "origin": "NLD"
         },
         {
          "bin": "[60.0-80.0)",
          "number": 104,
          "origin": "NLD"
         },
         {
          "bin": "[80.0-100.0)",
          "number": 155,
          "origin": "NLD"
         },
         {
          "bin": "[100.0-120.0)",
          "number": 203,
          "origin": "NLD"
         },
         {
          "bin": "[120.0-140.0)",
          "number": 192,
          "origin": "NLD"
         },
         {
          "bin": "[140.0-160.0)",
          "number": 152,
          "origin": "NLD"
         },
         {
          "bin": "[160.0-180.0)",
          "number": 117,
          "origin": "NLD"
         },
         {
          "bin": "[180.0-200.0)",
          "number": 97,
          "origin": "NLD"
         },
         {
          "bin": "[200.0-220.0)",
          "number": 80,
          "origin": "NLD"
         },
         {
          "bin": "[220.0-240.0)",
          "number": 53,
          "origin": "NLD"
         },
         {
          "bin": "[240.0-260.0)",
          "number": 40,
          "origin": "NLD"
         },
         {
          "bin": "[260.0-280.0)",
          "number": 32,
          "origin": "NLD"
         },
         {
          "bin": "[280.0-300.0)",
          "number": 23,
          "origin": "NLD"
         },
         {
          "bin": "[300.0-320.0)",
          "number": 7,
          "origin": "NLD"
         },
         {
          "bin": "[320.0-340.0)",
          "number": 3,
          "origin": "NLD"
         },
         {
          "bin": "[340.0-360.0)",
          "number": 2,
          "origin": "NLD"
         },
         {
          "bin": "[0.0-20.0)",
          "number": 3,
          "origin": "EER"
         },
         {
          "bin": "[20.0-40.0)",
          "number": 1,
          "origin": "EER"
         },
         {
          "bin": "[40.0-60.0)",
          "number": 2,
          "origin": "EER"
         },
         {
          "bin": "[60.0-80.0)",
          "number": 8,
          "origin": "EER"
         },
         {
          "bin": "[80.0-100.0)",
          "number": 9,
          "origin": "EER"
         },
         {
          "bin": "[100.0-120.0)",
          "number": 13,
          "origin": "EER"
         },
         {
          "bin": "[120.0-140.0)",
          "number": 8,
          "origin": "EER"
         },
         {
          "bin": "[140.0-160.0)",
          "number": 21,
          "origin": "EER"
         },
         {
          "bin": "[160.0-180.0)",
          "number": 21,
          "origin": "EER"
         },
         {
          "bin": "[180.0-200.0)",
          "number": 13,
          "origin": "EER"
         },
         {
          "bin": "[200.0-220.0)",
          "number": 11,
          "origin": "EER"
         },
         {
          "bin": "[220.0-240.0)",
          "number": 6,
          "origin": "EER"
         },
         {
          "bin": "[240.0-260.0)",
          "number": 5,
          "origin": "EER"
         },
         {
          "bin": "[260.0-280.0)",
          "number": 7,
          "origin": "EER"
         },
         {
          "bin": "[280.0-300.0)",
          "number": 3,
          "origin": "EER"
         },
         {
          "bin": "[300.0-320.0)",
          "number": 3,
          "origin": "EER"
         },
         {
          "bin": "[320.0-340.0)",
          "number": 2,
          "origin": "EER"
         },
         {
          "bin": "[340.0-360.0)",
          "number": 1,
          "origin": "EER"
         },
         {
          "bin": "[0.0-20.0)",
          "number": 2,
          "origin": "NEER"
         },
         {
          "bin": "[20.0-40.0)",
          "number": 1,
          "origin": "NEER"
         },
         {
          "bin": "[40.0-60.0)",
          "number": 0,
          "origin": "NEER"
         },
         {
          "bin": "[60.0-80.0)",
          "number": 1,
          "origin": "NEER"
         },
         {
          "bin": "[80.0-100.0)",
          "number": 3,
          "origin": "NEER"
         },
         {
          "bin": "[100.0-120.0)",
          "number": 2,
          "origin": "NEER"
         },
         {
          "bin": "[120.0-140.0)",
          "number": 4,
          "origin": "NEER"
         },
         {
          "bin": "[140.0-160.0)",
          "number": 5,
          "origin": "NEER"
         },
         {
          "bin": "[160.0-180.0)",
          "number": 4,
          "origin": "NEER"
         },
         {
          "bin": "[180.0-200.0)",
          "number": 13,
          "origin": "NEER"
         },
         {
          "bin": "[200.0-220.0)",
          "number": 8,
          "origin": "NEER"
         },
         {
          "bin": "[220.0-240.0)",
          "number": 8,
          "origin": "NEER"
         },
         {
          "bin": "[240.0-260.0)",
          "number": 3,
          "origin": "NEER"
         },
         {
          "bin": "[260.0-280.0)",
          "number": 4,
          "origin": "NEER"
         },
         {
          "bin": "[280.0-300.0)",
          "number": 2,
          "origin": "NEER"
         },
         {
          "bin": "[300.0-320.0)",
          "number": 3,
          "origin": "NEER"
         },
         {
          "bin": "[320.0-340.0)",
          "number": 1,
          "origin": "NEER"
         },
         {
          "bin": "[340.0-360.0)",
          "number": 0,
          "origin": "NEER"
         }
        ]
       },
       "hconcat": [
        {
         "data": {
          "name": "data-acc3b409a72d4b121c9b97c4341c037d"
         },
         "encoding": {
          "color": {
           "field": "origin",
           "legend": null,
           "type": "nominal"
          },
          "order": {
           "field": "origin",
           "sort": "descending",
           "type": "nominal"
          },
          "x": {
           "field": "bin",
           "sort": [
            "[0.0-20.0)",
            "[20.0-40.0)",
            "[40.0-60.0)",
            "[60.0-80.0)",
            "[80.0-100.0)",
            "[100.0-120.0)",
            "[120.0-140.0)",
            "[140.0-160.0)",
            "[160.0-180.0)",
            "[180.0-200.0)",
            "[200.0-220.0)",
            "[220.0-240.0)",
            "[240.0-260.0)",
            "[260.0-280.0)",
            "[280.0-300.0)",
            "[300.0-320.0)",
            "[320.0-340.0)",
            "[340.0-360.0)"
           ],
           "type": "ordinal"
          },
          "y": {
           "field": "number",
           "stack": "zero",
           "type": "quantitative"
          }
         },
         "mark": {
          "clip": true,
          "type": "bar"
         },
         "transform": [
          {
           "filter": {
            "selection": "selector005"
           }
          }
         ],
         "width": 600
        },
        {
         "data": {
          "name": "data-acc3b409a72d4b121c9b97c4341c037d"
         },
         "encoding": {
          "color": {
           "condition": {
            "field": "origin",
            "legend": null,
            "selection": "selector005",
            "type": "nominal"
           },
           "value": "lightgray"
          },
          "size": {
           "condition": {
            "selection": "selector005",
            "value": 200
           },
           "value": 100
          },
          "y": {
           "axis": {
            "domain": false,
            "labelPadding": 5,
            "ticks": false,
            "title": "origin"
           },
           "field": "origin",
           "sort": [
            "NLD",
            "EER",
            "NEER"
           ],
           "type": "nominal"
          }
         },
         "height": 90,
         "mark": {
          "cursor": "pointer",
          "type": "square"
         },
         "selection": {
          "selector005": {
           "empty": "all",
           "fields": [
            "origin"
           ],
           "on": "click",
           "resolve": "global",
           "toggle": "event.shiftKey",
           "type": "multi"
          }
         },
         "width": 30
        }
       ]
      },
      "image/png": "[encoded data removed]",
      "text/plain": [
       "<VegaLite 2 object>\n",
       "\n",
       "If you see this message, it means the renderer has not been properly enabled\n",
       "for the frontend that you are using. For more information, see\n",
       "https://altair-viz.github.io/user_guide/troubleshooting.html\n"
      ]
     },
     "execution_count": 5,
     "metadata": {},
     "output_type": "execute_result"
    }
   ],
   "source": [
    "qry = \"\"\"ACADEMIC_YEAR == 2018 & REENROLLMENT == 'no' & STATUS == 'active'\"\"\"\n",
    "df['PROCESSING_TIME'] = df['STATUS_DATE'] - df['REQUEST_DATE']\n",
    "df['PROCESSING_TIME']  = df['PROCESSING_TIME'].astype('timedelta64[D]')\n",
    "df = tbl.quick_bin(df, 'PROCESSING_TIME', 20, bin_col='BIN', bin_str=True)\n",
    "df_bin = tbl.crosstab_f(df.query(qry), 'BIN', 'ORIGIN', totals_col=False, totals_row=False)\n",
    "\n",
    "var_order = df.ORIGIN.cat.categories.tolist()\n",
    "chrt.generate_bin_chart(df_bin, 'number', 'origin', var_order=var_order)"
   ]
  },
  {
   "cell_type": "code",
   "execution_count": 6,
   "metadata": {},
   "outputs": [
    {
     "data": {
      "text/html": [
       "<div>\n",
       "<style scoped>\n",
       "    .dataframe tbody tr th:only-of-type {\n",
       "        vertical-align: middle;\n",
       "    }\n",
       "\n",
       "    .dataframe tbody tr th {\n",
       "        vertical-align: top;\n",
       "    }\n",
       "\n",
       "    .dataframe thead th {\n",
       "        text-align: right;\n",
       "    }\n",
       "</style>\n",
       "<table border=\"1\" class=\"dataframe\">\n",
       "  <thead>\n",
       "    <tr style=\"text-align: right;\">\n",
       "      <th>ORIGIN</th>\n",
       "      <th>NLD</th>\n",
       "      <th>EER</th>\n",
       "      <th>NEER</th>\n",
       "    </tr>\n",
       "    <tr>\n",
       "      <th>bin</th>\n",
       "      <th></th>\n",
       "      <th></th>\n",
       "      <th></th>\n",
       "    </tr>\n",
       "  </thead>\n",
       "  <tbody>\n",
       "    <tr>\n",
       "      <th>[0.0-20.0)</th>\n",
       "      <td>23</td>\n",
       "      <td>3</td>\n",
       "      <td>2</td>\n",
       "    </tr>\n",
       "    <tr>\n",
       "      <th>[20.0-40.0)</th>\n",
       "      <td>34</td>\n",
       "      <td>1</td>\n",
       "      <td>1</td>\n",
       "    </tr>\n",
       "    <tr>\n",
       "      <th>[40.0-60.0)</th>\n",
       "      <td>61</td>\n",
       "      <td>2</td>\n",
       "      <td>0</td>\n",
       "    </tr>\n",
       "    <tr>\n",
       "      <th>[60.0-80.0)</th>\n",
       "      <td>104</td>\n",
       "      <td>8</td>\n",
       "      <td>1</td>\n",
       "    </tr>\n",
       "    <tr>\n",
       "      <th>[80.0-100.0)</th>\n",
       "      <td>155</td>\n",
       "      <td>9</td>\n",
       "      <td>3</td>\n",
       "    </tr>\n",
       "    <tr>\n",
       "      <th>[100.0-120.0)</th>\n",
       "      <td>203</td>\n",
       "      <td>13</td>\n",
       "      <td>2</td>\n",
       "    </tr>\n",
       "    <tr>\n",
       "      <th>[120.0-140.0)</th>\n",
       "      <td>192</td>\n",
       "      <td>8</td>\n",
       "      <td>4</td>\n",
       "    </tr>\n",
       "    <tr>\n",
       "      <th>[140.0-160.0)</th>\n",
       "      <td>152</td>\n",
       "      <td>21</td>\n",
       "      <td>5</td>\n",
       "    </tr>\n",
       "    <tr>\n",
       "      <th>[160.0-180.0)</th>\n",
       "      <td>117</td>\n",
       "      <td>21</td>\n",
       "      <td>4</td>\n",
       "    </tr>\n",
       "    <tr>\n",
       "      <th>[180.0-200.0)</th>\n",
       "      <td>97</td>\n",
       "      <td>13</td>\n",
       "      <td>13</td>\n",
       "    </tr>\n",
       "    <tr>\n",
       "      <th>[200.0-220.0)</th>\n",
       "      <td>80</td>\n",
       "      <td>11</td>\n",
       "      <td>8</td>\n",
       "    </tr>\n",
       "    <tr>\n",
       "      <th>[220.0-240.0)</th>\n",
       "      <td>53</td>\n",
       "      <td>6</td>\n",
       "      <td>8</td>\n",
       "    </tr>\n",
       "    <tr>\n",
       "      <th>[240.0-260.0)</th>\n",
       "      <td>40</td>\n",
       "      <td>5</td>\n",
       "      <td>3</td>\n",
       "    </tr>\n",
       "    <tr>\n",
       "      <th>[260.0-280.0)</th>\n",
       "      <td>32</td>\n",
       "      <td>7</td>\n",
       "      <td>4</td>\n",
       "    </tr>\n",
       "    <tr>\n",
       "      <th>[280.0-300.0)</th>\n",
       "      <td>23</td>\n",
       "      <td>3</td>\n",
       "      <td>2</td>\n",
       "    </tr>\n",
       "    <tr>\n",
       "      <th>[300.0-320.0)</th>\n",
       "      <td>7</td>\n",
       "      <td>3</td>\n",
       "      <td>3</td>\n",
       "    </tr>\n",
       "    <tr>\n",
       "      <th>[320.0-340.0)</th>\n",
       "      <td>3</td>\n",
       "      <td>2</td>\n",
       "      <td>1</td>\n",
       "    </tr>\n",
       "    <tr>\n",
       "      <th>[340.0-360.0)</th>\n",
       "      <td>2</td>\n",
       "      <td>1</td>\n",
       "      <td>0</td>\n",
       "    </tr>\n",
       "  </tbody>\n",
       "</table>\n",
       "</div>"
      ],
      "text/plain": [
       "ORIGIN         NLD  EER  NEER\n",
       "bin                          \n",
       "[0.0-20.0)      23    3     2\n",
       "[20.0-40.0)     34    1     1\n",
       "[40.0-60.0)     61    2     0\n",
       "[60.0-80.0)    104    8     1\n",
       "[80.0-100.0)   155    9     3\n",
       "[100.0-120.0)  203   13     2\n",
       "[120.0-140.0)  192    8     4\n",
       "[140.0-160.0)  152   21     5\n",
       "[160.0-180.0)  117   21     4\n",
       "[180.0-200.0)   97   13    13\n",
       "[200.0-220.0)   80   11     8\n",
       "[220.0-240.0)   53    6     8\n",
       "[240.0-260.0)   40    5     3\n",
       "[260.0-280.0)   32    7     4\n",
       "[280.0-300.0)   23    3     2\n",
       "[300.0-320.0)    7    3     3\n",
       "[320.0-340.0)    3    2     1\n",
       "[340.0-360.0)    2    1     0"
      ]
     },
     "execution_count": 6,
     "metadata": {},
     "output_type": "execute_result"
    }
   ],
   "source": [
    "df_bin"
   ]
  }
 ],
 "metadata": {
  "kernelspec": {
   "display_name": "Python 3",
   "language": "python",
   "name": "python3"
  },
  "language_info": {
   "codemirror_mode": {
    "name": "ipython",
    "version": 3
   },
   "file_extension": ".py",
   "mimetype": "text/x-python",
   "name": "python",
   "nbconvert_exporter": "python",
   "pygments_lexer": "ipython3",
   "version": "3.6.5"
  }
 },
 "nbformat": 4,
 "nbformat_minor": 2
}
